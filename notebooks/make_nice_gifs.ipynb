{
 "cells": [
  {
   "cell_type": "code",
   "execution_count": null,
   "metadata": {},
   "outputs": [],
   "source": [
    "%env CUDA_VISIBLE_DEVICES=3\n",
    "import os\n",
    "\n",
    "import torch\n",
    "import matplotlib.pyplot as plt\n",
    "from torch.optim import Adam\n",
    "from utils.pipeline import forward, get_latent_from_text\n",
    "\n",
    "torch.cuda.empty_cache()\n",
    "device = \"cuda\""
   ]
  },
  {
   "cell_type": "code",
   "execution_count": null,
   "metadata": {},
   "outputs": [],
   "source": [
    "lat_rep = torch.load('lat_rep_0_100_1.pt')\n",
    "lat_rep = [tensor.to(device) for tensor in lat_rep]\n",
    "torch.cuda.empty_cache()\n",
    "light_params = {\n",
    "        \"amb_light_color\": torch.tensor([0.65, 0.66, 0.69]),\n",
    "        # light 1\n",
    "        \"light_intensity_1\": 1.69,\n",
    "        \"light_color_1\": torch.tensor([1., 0.91, 0.88]),\n",
    "        \"light_dir_1\": torch.tensor([0., -0.18, -0.8]),#torch.tensor([-0.85, -0.18, -0.8]),\n",
    "        # light p\n",
    "        \"light_intensity_p\": 0.52,\n",
    "        \"light_color_p\": torch.tensor([1., 0.91, 0.88]),\n",
    "        \"light_pos_p\": torch.tensor([0.17, 2.77, -2.25])\n",
    "    }\n",
    "phong_params = {\n",
    "        \"ambient_coeff\": 0.32,\n",
    "        \"diffuse_coeff\": 0.85,\n",
    "        \"specular_coeff\": 0.34,\n",
    "        \"shininess\": 25,\n",
    "        # Colors\n",
    "        \"object_color\": torch.tensor([0.53, 0.24, 0.64]),\n",
    "        \"background_color\": torch.tensor([1., 1., 1.])\n",
    "    }\n",
    "\n",
    "prompt = \"untextured render of a face\"\n",
    "images = []\n",
    "with torch.no_grad():\n",
    "    for angle in torch.arange(70, -70, -1.5):\n",
    "        camera_params = {\n",
    "            \"camera_distance\": 0.21 * 2.57,\n",
    "            \"camera_angle_rho\": torch.tensor(angle, dtype=torch.float32),\n",
    "            \"camera_angle_theta\": torch.tensor(0, dtype=torch.float32),\n",
    "            \"focal_length\": 2.57,\n",
    "            \"max_ray_length\": 3.5,\n",
    "            # Image\n",
    "            \"resolution_y\": 400,\n",
    "            \"resolution_x\": 400\n",
    "        }\n",
    "        a = 0.85*2/140\n",
    "        b = -a * (angle+70) + 0.85\n",
    "        light_params['light_dir_1'] = torch.tensor([b, -0.18, -0.8])\n",
    "        _, _, _, _, image = forward(lat_rep, prompt, camera_params, phong_params, light_params, with_app_grad=False, color=True)\n",
    "        images.append(image)\n",
    "\n",
    "save_dir = '../optim_img/'\n",
    "os.makedirs(save_dir, exist_ok=True)\n",
    "for i, im in enumerate(images):\n",
    "    plt.imshow(im.detach().numpy())\n",
    "    plt.axis('off')  # Turn off axes\n",
    "    #plt.show()\n",
    "    plt.savefig(save_dir + f\"image_{i}.png\", bbox_inches='tight')"
   ]
  }
 ],
 "metadata": {
  "kernelspec": {
   "display_name": "nphm",
   "language": "python",
   "name": "python3"
  },
  "language_info": {
   "codemirror_mode": {
    "name": "ipython",
    "version": 3
   },
   "file_extension": ".py",
   "mimetype": "text/x-python",
   "name": "python",
   "nbconvert_exporter": "python",
   "pygments_lexer": "ipython3",
   "version": "3.9.18"
  }
 },
 "nbformat": 4,
 "nbformat_minor": 2
}
