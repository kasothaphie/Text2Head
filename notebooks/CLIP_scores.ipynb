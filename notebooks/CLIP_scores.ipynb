{
 "cells": [
  {
   "cell_type": "code",
   "execution_count": null,
   "id": "initial_id",
   "metadata": {
    "ExecuteTime": {
     "end_time": "2023-11-07T13:31:59.593751Z",
     "start_time": "2023-11-07T13:31:40.600112Z"
    },
    "collapsed": true
   },
   "outputs": [],
   "source": [
    "import torch\n",
    "import clip\n",
    "import os\n",
    "from PIL import Image\n",
    "import numpy as np\n",
    "import matplotlib.pyplot as plt\n",
    "\n",
    "device = \"cuda\" if torch.cuda.is_available() else \"cpu\"\n",
    "model, preprocess = clip.load(\"ViT-B/32\", device=device)"
   ]
  },
  {
   "cell_type": "code",
   "execution_count": null,
   "id": "4159e9e7136f1674",
   "metadata": {
    "ExecuteTime": {
     "end_time": "2023-11-07T13:58:39.606244Z",
     "start_time": "2023-11-07T13:58:36.801516Z"
    },
    "collapsed": false
   },
   "outputs": [],
   "source": [
    "# image inputs\n",
    "image_folder = '/Users/katharinaschmid/Text2Head/NPHM-main/rendering_data'\n",
    "\n",
    "images = []\n",
    "preprocessed_images = torch.tensor([])\n",
    "for filename in os.listdir(image_folder):\n",
    "    if filename.endswith(\"150.png\"):\n",
    "        image = Image.open(os.path.join(image_folder, filename))\n",
    "        images.append(image)\n",
    "        preprocessed_image = preprocess(image).unsqueeze(0) # [1, 3, 224, 224]\n",
    "        preprocessed_images = torch.cat((preprocessed_images, preprocessed_image), dim=0)\n",
    "num_images = len(images)\n",
    "\n",
    "fig, axes = plt.subplots(1, len(images), figsize=(20, 5))\n",
    "for i, img in enumerate(images):\n",
    "    ax = axes[i]\n",
    "    ax.imshow(img)  # Display each image\n",
    "    ax.axis('off')  # Turn off axis labels\n",
    "\n",
    "plt.show()\n",
    "\n",
    "# text inputs\n",
    "general = \"An image of the bust of \"\n",
    "captions = []\n",
    "#captions.append(general + \"a man\") \n",
    "captions.append(general + \"a young man\")\n",
    "#captions.append(\"An image of a stone sculpture of the head of \" + \"a young man\")\n",
    "#captions.append(\"An image of the mesh of a head of \" + \"a young man\")\n",
    "#captions.append(\"A young man\")\n",
    "#captions.append(\"A car\")\n",
    "captions.append(general + \"an Asian young man\")\n",
    "captions.append(general + \"a young man with wide forehead\")\n",
    "captions.append(general + \"a chubby man\")\n",
    "captions.append(general + \"a woman\")\n",
    "\n",
    "\n",
    "preprocessed_text = clip.tokenize(captions).to(device) # [num_captions, 77]\n",
    "\n",
    "with torch.no_grad():\n",
    "    image_features = model.encode_image(preprocessed_images) # [num_images, 512]\n",
    "    text_features = model.encode_text(preprocessed_text) # [num_captions, 512]\n",
    "\n",
    "# Normalize\n",
    "image_features /= image_features.norm(dim=-1, keepdim=True)\n",
    "text_features /= text_features.norm(dim=-1, keepdim=True)\n",
    "\n",
    "cosine_similarity = torch.matmul(text_features, image_features.T)\n",
    "#print(cosine_similarity)\n",
    "\n",
    "fig, ax = plt.subplots()\n",
    "im = ax.imshow(cosine_similarity, cmap='gray')\n",
    "\n",
    "# Show all ticks and label them with the respective list entries\n",
    "ax.set_xticks(np.arange(len(images)))\n",
    "ax.set_yticks(np.arange(len(captions)), labels=captions)\n",
    "\n",
    "# Rotate the tick labels and set their alignment.\n",
    "plt.setp(ax.get_xticklabels(), ha=\"right\",\n",
    "         rotation_mode=\"anchor\")\n",
    "\n",
    "# Loop over data dimensions and create text annotations.\n",
    "for i in range(len(captions)):\n",
    "    for j in range(len(images)):\n",
    "        similarity = cosine_similarity[i, j].numpy()\n",
    "        formatted_similarity = \"{:.3f}\".format(similarity)  # Limit to 2 decimal places\n",
    "        text = ax.text(j, i, formatted_similarity,\n",
    "                       ha=\"center\", va=\"center\", color=\"r\")\n",
    "\n",
    "ax.set_title(\"Cosine Similarity\")\n",
    "fig.tight_layout()\n",
    "plt.show()\n"
   ]
  },
  {
   "cell_type": "code",
   "execution_count": null,
   "id": "1e12420ae0b50182",
   "metadata": {
    "collapsed": false
   },
   "outputs": [],
   "source": []
  }
 ],
 "metadata": {
  "kernelspec": {
   "display_name": "Python 3",
   "language": "python",
   "name": "python3"
  },
  "language_info": {
   "codemirror_mode": {
    "name": "ipython",
    "version": 2
   },
   "file_extension": ".py",
   "mimetype": "text/x-python",
   "name": "python",
   "nbconvert_exporter": "python",
   "pygments_lexer": "ipython2",
   "version": "3.9.18"
  }
 },
 "nbformat": 4,
 "nbformat_minor": 5
}
