{
 "cells": [
  {
   "cell_type": "code",
   "execution_count": null,
   "metadata": {},
   "outputs": [],
   "source": [
    "import yaml, json\n",
    "import torch\n",
    "import os.path as osp\n",
    "\n",
    "from nphm_tum import env_paths\n",
    "from nphm_tum.models.neural3dmm import construct_n3dmm, load_checkpoint"
   ]
  },
  {
   "cell_type": "code",
   "execution_count": null,
   "metadata": {},
   "outputs": [],
   "source": [
    "weight_dir_shape = env_paths.EXPERIMENT_DIR_REMOTE + '/'\n",
    "fname_shape = weight_dir_shape + 'configs.yaml'\n",
    "with open(fname_shape, 'r') as f:\n",
    "    print('Loading config file from: ' + fname_shape)\n",
    "    CFG = yaml.safe_load(f)\n",
    "    print('###########################################################################')\n",
    "    print('####################     Model Configs     #############################')\n",
    "    print('###########################################################################')\n",
    "    print(json.dumps(CFG, sort_keys=True, indent=4))\n",
    "\n",
    "    # load participant IDs that were used for training\n",
    "    fname_subject_index = f\"{weight_dir_shape}/subject_train_index.json\"\n",
    "    with open(fname_subject_index, 'r') as f:\n",
    "        print('Loading subject index: ' + fname_subject_index)\n",
    "        subject_index = json.load(f)\n",
    "\n",
    "    # load expression indices that were used for training\n",
    "    fname_subject_index = f\"{weight_dir_shape}/expression_train_index.json\"\n",
    "    with open(fname_subject_index, 'r') as f:\n",
    "        print('Loading subject index: ' + fname_subject_index)\n",
    "        expression_index = json.load(f)\n",
    "\n",
    "\n",
    "    # construct the NPHM models and latent codebook\n",
    "    device = torch.device(\"cuda\")\n",
    "    neural_3dmm, latent_codes = construct_n3dmm(\n",
    "                                  cfg = CFG,\n",
    "                                  modalities=['geo', 'exp'],\n",
    "                                  n_latents=[len(subject_index), len(expression_index)],\n",
    "                                  device=device,\n",
    "                                  )\n",
    "\n",
    "    # load checkpoint from trained NPHM model, including the latent codes\n",
    "    ckpt_path = osp.join(weight_dir_shape, 'checkpoints/checkpoint_epoch_6500.tar')\n",
    "    print('Loaded checkpoint from: {}'.format(ckpt_path))\n",
    "    load_checkpoint(ckpt_path, neural_3dmm, latent_codes)"
   ]
  },
  {
   "cell_type": "code",
   "execution_count": null,
   "metadata": {},
   "outputs": [],
   "source": [
    "def forward(self,\n",
    "                in_dict,\n",
    "                cond,\n",
    "                return_grad : bool = False,\n",
    "                return_can : bool = False,\n",
    "                skip_color : bool = False,\n",
    "                ignore_deformations : bool = False,\n",
    "                ):"
   ]
  },
  {
   "cell_type": "code",
   "execution_count": 16,
   "metadata": {},
   "outputs": [],
   "source": [
    "geo_mean = latent_codes.codebook['geo'].embedding.weight.mean(dim=0)\n",
    "geo_std = latent_codes.codebook['geo'].embedding.weight.std(dim=0)\n",
    "exp_mean = latent_codes.codebook['exp'].embedding.weight.mean(dim=0)\n",
    "exp_std = latent_codes.codebook['exp'].embedding.weight.std(dim=0)"
   ]
  },
  {
   "cell_type": "code",
   "execution_count": 18,
   "metadata": {},
   "outputs": [],
   "source": [
    "in_dict = {\n",
    "    \"queries\":[\n",
    "        (0, 0, 0)\n",
    "    ]\n",
    "}\n",
    "\n",
    "cond = {\n",
    "    \"geo\": geo_mean,\n",
    "    \"exp\": exp_mean\n",
    "}"
   ]
  },
  {
   "cell_type": "code",
   "execution_count": 19,
   "metadata": {},
   "outputs": [
    {
     "ename": "IndexError",
     "evalue": "too many indices for tensor of dimension 1",
     "output_type": "error",
     "traceback": [
      "\u001b[0;31m---------------------------------------------------------------------------\u001b[0m",
      "\u001b[0;31mIndexError\u001b[0m                                Traceback (most recent call last)",
      "Cell \u001b[0;32mIn[19], line 1\u001b[0m\n\u001b[0;32m----> 1\u001b[0m \u001b[43mneural_3dmm\u001b[49m\u001b[43m(\u001b[49m\u001b[43min_dict\u001b[49m\u001b[43m,\u001b[49m\u001b[43m \u001b[49m\u001b[43mcond\u001b[49m\u001b[43m)\u001b[49m\n",
      "File \u001b[0;32m~/miniconda3/envs/Text2Head/lib/python3.9/site-packages/torch/nn/modules/module.py:1501\u001b[0m, in \u001b[0;36mModule._call_impl\u001b[0;34m(self, *args, **kwargs)\u001b[0m\n\u001b[1;32m   1496\u001b[0m \u001b[38;5;66;03m# If we don't have any hooks, we want to skip the rest of the logic in\u001b[39;00m\n\u001b[1;32m   1497\u001b[0m \u001b[38;5;66;03m# this function, and just call forward.\u001b[39;00m\n\u001b[1;32m   1498\u001b[0m \u001b[38;5;28;01mif\u001b[39;00m \u001b[38;5;129;01mnot\u001b[39;00m (\u001b[38;5;28mself\u001b[39m\u001b[38;5;241m.\u001b[39m_backward_hooks \u001b[38;5;129;01mor\u001b[39;00m \u001b[38;5;28mself\u001b[39m\u001b[38;5;241m.\u001b[39m_backward_pre_hooks \u001b[38;5;129;01mor\u001b[39;00m \u001b[38;5;28mself\u001b[39m\u001b[38;5;241m.\u001b[39m_forward_hooks \u001b[38;5;129;01mor\u001b[39;00m \u001b[38;5;28mself\u001b[39m\u001b[38;5;241m.\u001b[39m_forward_pre_hooks\n\u001b[1;32m   1499\u001b[0m         \u001b[38;5;129;01mor\u001b[39;00m _global_backward_pre_hooks \u001b[38;5;129;01mor\u001b[39;00m _global_backward_hooks\n\u001b[1;32m   1500\u001b[0m         \u001b[38;5;129;01mor\u001b[39;00m _global_forward_hooks \u001b[38;5;129;01mor\u001b[39;00m _global_forward_pre_hooks):\n\u001b[0;32m-> 1501\u001b[0m     \u001b[38;5;28;01mreturn\u001b[39;00m \u001b[43mforward_call\u001b[49m\u001b[43m(\u001b[49m\u001b[38;5;241;43m*\u001b[39;49m\u001b[43margs\u001b[49m\u001b[43m,\u001b[49m\u001b[43m \u001b[49m\u001b[38;5;241;43m*\u001b[39;49m\u001b[38;5;241;43m*\u001b[39;49m\u001b[43mkwargs\u001b[49m\u001b[43m)\u001b[49m\n\u001b[1;32m   1502\u001b[0m \u001b[38;5;66;03m# Do not call functions when jit is used\u001b[39;00m\n\u001b[1;32m   1503\u001b[0m full_backward_hooks, non_full_backward_hooks \u001b[38;5;241m=\u001b[39m [], []\n",
      "File \u001b[0;32m~/Text2Head/MonoNPHM/src/nphm_tum/models/neural3dmm.py:68\u001b[0m, in \u001b[0;36mnn3dmm.forward\u001b[0;34m(self, in_dict, cond, return_grad, return_can, skip_color, ignore_deformations)\u001b[0m\n\u001b[1;32m     65\u001b[0m \u001b[38;5;28;01melif\u001b[39;00m \u001b[38;5;28mself\u001b[39m\u001b[38;5;241m.\u001b[39mexpr_direction \u001b[38;5;241m==\u001b[39m \u001b[38;5;124m'\u001b[39m\u001b[38;5;124mbackward\u001b[39m\u001b[38;5;124m'\u001b[39m:\n\u001b[1;32m     66\u001b[0m     \u001b[38;5;66;03m# provide expression network with predicted facial anchors\u001b[39;00m\n\u001b[1;32m     67\u001b[0m     \u001b[38;5;28;01mif\u001b[39;00m \u001b[38;5;28mhasattr\u001b[39m(\u001b[38;5;28mself\u001b[39m\u001b[38;5;241m.\u001b[39mid_model, \u001b[38;5;124m'\u001b[39m\u001b[38;5;124mmlp_pos\u001b[39m\u001b[38;5;124m'\u001b[39m) \u001b[38;5;129;01mand\u001b[39;00m \u001b[38;5;28mself\u001b[39m\u001b[38;5;241m.\u001b[39mid_model\u001b[38;5;241m.\u001b[39mmlp_pos \u001b[38;5;129;01mis\u001b[39;00m \u001b[38;5;129;01mnot\u001b[39;00m \u001b[38;5;28;01mNone\u001b[39;00m \u001b[38;5;129;01mand\u001b[39;00m \u001b[38;5;124m'\u001b[39m\u001b[38;5;124manchors\u001b[39m\u001b[38;5;124m'\u001b[39m \u001b[38;5;129;01mnot\u001b[39;00m \u001b[38;5;129;01min\u001b[39;00m in_dict:\n\u001b[0;32m---> 68\u001b[0m         in_dict\u001b[38;5;241m.\u001b[39mupdate({\u001b[38;5;124m'\u001b[39m\u001b[38;5;124manchors\u001b[39m\u001b[38;5;124m'\u001b[39m: \u001b[38;5;28;43mself\u001b[39;49m\u001b[38;5;241;43m.\u001b[39;49m\u001b[43mid_model\u001b[49m\u001b[38;5;241;43m.\u001b[39;49m\u001b[43mget_anchors\u001b[49m\u001b[43m(\u001b[49m\u001b[43mcond\u001b[49m\u001b[43m[\u001b[49m\u001b[38;5;124;43m'\u001b[39;49m\u001b[38;5;124;43mgeo\u001b[39;49m\u001b[38;5;124;43m'\u001b[39;49m\u001b[43m]\u001b[49m\u001b[43m)\u001b[49m})\n\u001b[1;32m     70\u001b[0m     \u001b[38;5;66;03m# perform backward deformation\u001b[39;00m\n\u001b[1;32m     71\u001b[0m     \u001b[38;5;28;01mif\u001b[39;00m \u001b[38;5;129;01mnot\u001b[39;00m \u001b[38;5;28mself\u001b[39m\u001b[38;5;241m.\u001b[39mneutral_only:\n\u001b[1;32m     72\u001b[0m \n\u001b[1;32m     73\u001b[0m         \u001b[38;5;66;03m# not sure where this would ever be used\u001b[39;00m\n",
      "File \u001b[0;32m~/Text2Head/MonoNPHM/src/nphm_tum/models/canonical_space.py:801\u001b[0m, in \u001b[0;36mNPHM.get_anchors\u001b[0;34m(self, lat_rep_geo)\u001b[0m\n\u001b[1;32m    794\u001b[0m \u001b[38;5;250m\u001b[39m\u001b[38;5;124;03m'''\u001b[39;00m\n\u001b[1;32m    795\u001b[0m \u001b[38;5;124;03mPredict the acnhor positions based on the global part of the geometry latent code.\u001b[39;00m\n\u001b[1;32m    796\u001b[0m \n\u001b[1;32m    797\u001b[0m \u001b[38;5;124;03m:param lat_rep_geo:\u001b[39;00m\n\u001b[1;32m    798\u001b[0m \u001b[38;5;124;03m:return:\u001b[39;00m\n\u001b[1;32m    799\u001b[0m \u001b[38;5;124;03m'''\u001b[39;00m\n\u001b[1;32m    800\u001b[0m \u001b[38;5;28;01mif\u001b[39;00m \u001b[38;5;129;01mnot\u001b[39;00m \u001b[38;5;28mself\u001b[39m\u001b[38;5;241m.\u001b[39mconst_anchors:\n\u001b[0;32m--> 801\u001b[0m     glob_feats \u001b[38;5;241m=\u001b[39m \u001b[43mlat_rep_geo\u001b[49m\u001b[43m[\u001b[49m\u001b[43m:\u001b[49m\u001b[43m,\u001b[49m\u001b[43m \u001b[49m\u001b[38;5;241;43m0\u001b[39;49m\u001b[43m,\u001b[49m\u001b[43m \u001b[49m\u001b[43m:\u001b[49m\u001b[38;5;28;43mself\u001b[39;49m\u001b[38;5;241;43m.\u001b[39;49m\u001b[43mlat_dim_glob\u001b[49m\u001b[43m]\u001b[49m\n\u001b[1;32m    802\u001b[0m     offsets \u001b[38;5;241m=\u001b[39m \u001b[38;5;28mself\u001b[39m\u001b[38;5;241m.\u001b[39mmlp_pos(glob_feats)\u001b[38;5;241m.\u001b[39mview(\u001b[38;5;241m-\u001b[39m\u001b[38;5;241m1\u001b[39m, \u001b[38;5;28mself\u001b[39m\u001b[38;5;241m.\u001b[39mn_anchors, \u001b[38;5;241m3\u001b[39m)\n\u001b[1;32m    803\u001b[0m     \u001b[38;5;28;01mreturn\u001b[39;00m \u001b[38;5;28mself\u001b[39m\u001b[38;5;241m.\u001b[39manchors\u001b[38;5;241m.\u001b[39mto(offsets\u001b[38;5;241m.\u001b[39mdevice) \u001b[38;5;241m+\u001b[39m offsets\n",
      "\u001b[0;31mIndexError\u001b[0m: too many indices for tensor of dimension 1"
     ]
    }
   ],
   "source": [
    "neural_3dmm(in_dict, cond)"
   ]
  }
 ],
 "metadata": {
  "kernelspec": {
   "display_name": "Text2Head",
   "language": "python",
   "name": "python3"
  },
  "language_info": {
   "codemirror_mode": {
    "name": "ipython",
    "version": 3
   },
   "file_extension": ".py",
   "mimetype": "text/x-python",
   "name": "python",
   "nbconvert_exporter": "python",
   "pygments_lexer": "ipython3",
   "version": "3.9.18"
  }
 },
 "nbformat": 4,
 "nbformat_minor": 2
}
