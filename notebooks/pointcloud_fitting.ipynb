{
 "cells": [
  {
   "cell_type": "code",
   "execution_count": 1,
   "metadata": {},
   "outputs": [
    {
     "name": "stdout",
     "output_type": "stream",
     "text": [
      "env: CUDA_VISIBLE_DEVICES=3\n"
     ]
    },
    {
     "name": "stderr",
     "output_type": "stream",
     "text": [
      "/home/schmid/miniconda3/envs/MonoNPHM/lib/python3.9/site-packages/tqdm/auto.py:21: TqdmWarning: IProgress not found. Please update jupyter and ipywidgets. See https://ipywidgets.readthedocs.io/en/stable/user_install.html\n",
      "  from .autonotebook import tqdm as notebook_tqdm\n"
     ]
    },
    {
     "name": "stdout",
     "output_type": "stream",
     "text": [
      "ANCHORS HAVE SHAPE:  torch.Size([1, 1, 65, 3])\n",
      "creating DeepSDF with...\n",
      "lat dim 116\n",
      "hidden_dim 400\n",
      "Creating DeepSDF with input dim f119, hidden_dim f400 and output_dim 5\n",
      "Loaded checkpoint from: /home/schmid/Text2Head/MonoNPHM/new_weights_mono//checkpoints/checkpoint_epoch_2500.tar\n",
      "ANCHORS HAVE SHAPE:  torch.Size([1, 1, 65, 3])\n",
      "creating DeepSDF with...\n",
      "lat dim 116\n",
      "hidden_dim 400\n",
      "Creating DeepSDF with input dim f119, hidden_dim f400 and output_dim 5\n",
      "Loaded checkpoint from: /home/schmid/Text2Head/MonoNPHM/new_weights_mono//checkpoints/checkpoint_epoch_2500.tar\n"
     ]
    }
   ],
   "source": [
    "%env CUDA_VISIBLE_DEVICES=3\n",
    "import yaml, json\n",
    "import torch\n",
    "import os.path as osp\n",
    "import matplotlib.pyplot as plt\n",
    "\n",
    "from nphm_tum import env_paths as mono_env_paths\n",
    "from nphm_tum.models.neural3dmm import construct_n3dmm, load_checkpoint\n",
    "\n",
    "from utils.render import render\n",
    "from utils.pipeline import get_optimal_params_color\n",
    "from utils.pointcloud_fitting import get_latent_from_points"
   ]
  },
  {
   "cell_type": "code",
   "execution_count": 2,
   "metadata": {},
   "outputs": [
    {
     "name": "stdout",
     "output_type": "stream",
     "text": [
      "ANCHORS HAVE SHAPE:  torch.Size([1, 1, 65, 3])\n",
      "creating DeepSDF with...\n",
      "lat dim 116\n",
      "hidden_dim 400\n",
      "Creating DeepSDF with input dim f119, hidden_dim f400 and output_dim 5\n",
      "Loaded checkpoint from: /home/schmid/Text2Head/MonoNPHM/new_weights_mono//checkpoints/checkpoint_epoch_2500.tar\n"
     ]
    }
   ],
   "source": [
    "grad_vars = ['geo']\n",
    "weight_dir_shape = mono_env_paths.EXPERIMENT_DIR_REMOTE + '/'\n",
    "fname_shape = weight_dir_shape + 'configs.yaml'\n",
    "with open(fname_shape, 'r') as f:\n",
    "    CFG = yaml.safe_load(f)\n",
    "\n",
    "# load participant IDs that were used for training\n",
    "fname_subject_index = f\"{weight_dir_shape}/subject_train_index.json\"\n",
    "with open(fname_subject_index, 'r') as f:\n",
    "    subject_index = json.load(f)\n",
    "\n",
    "# load expression indices that were used for training\n",
    "fname_subject_index = f\"{weight_dir_shape}/expression_train_index.json\"\n",
    "with open(fname_subject_index, 'r') as f:\n",
    "    expression_index = json.load(f)\n",
    "\n",
    "\n",
    "device = torch.device(\"cuda\")\n",
    "modalities = ['geo', 'exp', 'app']\n",
    "n_lats = [len(subject_index), len(expression_index), len(subject_index)]\n",
    "\n",
    "neural_3dmm, latent_codes = construct_n3dmm(\n",
    "    cfg=CFG,\n",
    "    modalities=modalities,\n",
    "    n_latents=n_lats,\n",
    "    device=device,\n",
    "    neutral_only=False,\n",
    "    include_color_branch=True,\n",
    "    skip_exp_grads= ('exp' not in grad_vars)\n",
    ")\n",
    "\n",
    "# load checkpoint from trained NPHM model, including the latent codes\n",
    "ckpt_path = osp.join(weight_dir_shape, 'checkpoints/checkpoint_epoch_2500.tar')\n",
    "load_checkpoint(ckpt_path, neural_3dmm, latent_codes)\n",
    "    \n",
    "def sdf(sdf_inputs, lat_geo, lat_exp, lat_app):\n",
    "    dict_in = {\n",
    "        \"queries\":sdf_inputs\n",
    "    }\n",
    "\n",
    "    cond = {\n",
    "        \"geo\": torch.reshape(lat_geo, (1, 1, -1)),\n",
    "        \"exp\": torch.reshape(lat_exp, (1, 1, -1)),\n",
    "        \"app\": torch.reshape(lat_app, (1, 1, -1))\n",
    "    }\n",
    "    dict_out = neural_3dmm(dict_in, cond)\n",
    "    return dict_out[\"sdf\"], dict_out[\"color\"]\n",
    "\n",
    "geo_mean = latent_codes.codebook['geo'].embedding.weight.mean(dim=0)\n",
    "geo_std = latent_codes.codebook['geo'].embedding.weight.std(dim=0)\n",
    "exp_mean = latent_codes.codebook['exp'].embedding.weight.mean(dim=0)\n",
    "exp_std = latent_codes.codebook['exp'].embedding.weight.std(dim=0)\n",
    "app_mean = latent_codes.codebook['app'].embedding.weight.mean(dim=0)\n",
    "app_std = latent_codes.codebook['app'].embedding.weight.std(dim=0)"
   ]
  },
  {
   "cell_type": "code",
   "execution_count": 4,
   "metadata": {},
   "outputs": [],
   "source": [
    "lat_rep_gt = torch.load('lat_rep_3_100_3.pt')\n",
    "\n",
    "hparams = {\n",
    "        'resolution': 500,\n",
    "        'n_iterations': 20,\n",
    "        'optimizer_lr': 6e-4, \n",
    "        'lr_scheduler_factor': 0.5, #0.9\n",
    "        'lr_scheduler_patience': 3, #5\n",
    "        'lr_scheduler_min_lr': 1e-6,\n",
    "    }\n",
    "\n",
    "camera_params, phong_params, light_params = get_optimal_params_color(hparams)\n",
    "\n",
    "optimized_lat_rep = get_latent_from_points(lat_rep_gt, hparams, camera_params)\n",
    "\n",
    "print('Ground Truth Image')\n",
    "lat_rep_gt = [tensor.to(device) for tensor in lat_rep_gt]\n",
    "image_gt = render(sdf, lat_rep_gt, camera_params, phong_params, light_params, color=True, mesh_path=None, model_grads=[])\n",
    "plt.imshow(image_gt.detach().numpy())\n",
    "plt.axis('off')  # Turn off axes\n",
    "plt.show()\n",
    "\n",
    "print('Optimized Image')\n",
    "image = render(sdf, optimized_lat_rep, camera_params, phong_params, light_params, color=True, mesh_path=None, model_grads=[])\n",
    "plt.imshow(image.detach().numpy())\n",
    "plt.axis('off')  # Turn off axes\n",
    "plt.show()"
   ]
  }
 ],
 "metadata": {
  "kernelspec": {
   "display_name": "MonoNPHM",
   "language": "python",
   "name": "python3"
  },
  "language_info": {
   "codemirror_mode": {
    "name": "ipython",
    "version": 3
   },
   "file_extension": ".py",
   "mimetype": "text/x-python",
   "name": "python",
   "nbconvert_exporter": "python",
   "pygments_lexer": "ipython3",
   "version": "3.9.18"
  }
 },
 "nbformat": 4,
 "nbformat_minor": 2
}
