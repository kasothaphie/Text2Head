{
 "cells": [
  {
   "cell_type": "code",
   "execution_count": 1,
   "metadata": {},
   "outputs": [
    {
     "name": "stderr",
     "output_type": "stream",
     "text": [
      "/home/schmid/miniconda3/envs/nphm/lib/python3.9/site-packages/tqdm/auto.py:21: TqdmWarning: IProgress not found. Please update jupyter and ipywidgets. See https://ipywidgets.readthedocs.io/en/stable/user_install.html\n",
      "  from .autonotebook import tqdm as notebook_tqdm\n"
     ]
    }
   ],
   "source": [
    "import sys\n",
    "sys.path.append(\"/home/schmid/Text2Head/NPHM\")\n",
    "\n",
    "import torch\n",
    "from torch.optim import Adam\n",
    "from utils.pipeline import forward, get_latent_mean_std, get_latent_from_text\n",
    "from utils.similarity import CLIP_similarity, DINO_similarity\n",
    "import optuna\n",
    "import json\n",
    "\n",
    "torch.cuda.empty_cache()"
   ]
  },
  {
   "cell_type": "markdown",
   "metadata": {},
   "source": [
    "This notebook serves to find the best hyperparameters for the optimization.\n",
    "Important:\n",
    "- to make different runs comparable, we always start from lat_mean\n",
    "- for the model to be able to yield good results for varying prompts, we use the first 15 samples form the validation set"
   ]
  },
  {
   "cell_type": "code",
   "execution_count": 8,
   "metadata": {},
   "outputs": [],
   "source": [
    "hparams = {\n",
    "        'resolution': 120,\n",
    "        'n_iterations': 120,\n",
    "        'optimizer_lr': 2e-4,\n",
    "        'optimizer_weight_decay': 5e-5,\n",
    "        'lr_scheduler_factor': 0.53,\n",
    "        'lr_scheduler_patience': 5,\n",
    "        'lr_scheduler_min_lr': 2.6e-6\n",
    "    }\n",
    "\n",
    "dataset_path = '/home/schmid/data/validation_set.json'\n",
    "with open(dataset_path, 'r') as json_file:\n",
    "    data = json.load(json_file)\n",
    "\n",
    "def latent_optimization(hparams):\n",
    "    all_CLIP_sims = []\n",
    "    for i in range(15):\n",
    "        lat_mean, lat_std = get_latent_mean_std()\n",
    "        prompt = data['heads'][i]['description neutral']\n",
    "        CLIP_gt = data['heads'][i]['CLIP embedding']\n",
    "        #DINO_gt = data['heads'][i]['DINO embedding']\n",
    "        best_latent, _, _, hist = get_latent_from_text(prompt, hparams, init_lat=lat_mean)\n",
    "        image = hist[\"images\"][-1]\n",
    "        CLIP_gt_similarity = CLIP_similarity(image, CLIP_gt)\n",
    "        all_CLIP_sims.append(CLIP_gt_similarity)\n",
    "\n",
    "    all_CLIP_scores_tensor = torch.stack(all_CLIP_sims)\n",
    "    print(all_CLIP_scores_tensor)\n",
    "    # Calculate the average\n",
    "    average_score = torch.mean(all_CLIP_scores_tensor)\n",
    "\n",
    "    return average_score\n",
    "\n",
    "def objective(trial):\n",
    "\n",
    "    search_space = {\n",
    "        'resolution': 120,\n",
    "        'n_iterations': trial.suggest_categorical('n_iterations', [60, 80, 100, 120]),\n",
    "        'optimizer_lr': trial.suggest_float('optimizer_lr', 1e-4, 1e-3, log=True),\n",
    "        'optimizer_weight_decay': trial.suggest_float('optimizer_weight_decay', 1e-9, 1e-2, log=True),\n",
    "        'lr_scheduler_factor': trial.suggest_float('lr_scheduler_factor', 0.5, 0.9),\n",
    "        'lr_scheduler_patience': trial.suggest_int('lr_scheduler_patience', 3, 10),\n",
    "        'lr_scheduler_min_lr': trial.suggest_float('lr_scheduler_minlr', 1e-6, 1e-5, log=True),\n",
    "    }\n",
    "\n",
    "    hparams.update(search_space)\n",
    "\n",
    "    return latent_optimization(hparams)"
   ]
  },
  {
   "cell_type": "code",
   "execution_count": 9,
   "metadata": {},
   "outputs": [
    {
     "name": "stderr",
     "output_type": "stream",
     "text": [
      "[I 2023-12-27 14:15:22,109] Using an existing study with name 'optim_hparams' instead of creating a new one.\n",
      "  0%|          | 0/80 [00:00<?, ?it/s]"
     ]
    },
    {
     "name": "stderr",
     "output_type": "stream",
     "text": [
      "100%|██████████| 80/80 [00:33<00:00,  2.42it/s]\n",
      "100%|██████████| 80/80 [00:33<00:00,  2.40it/s]\n",
      "[I 2023-12-27 14:16:28,949] Trial 3 finished with value: 65.3125 and parameters: {'n_iterations': 80, 'optimizer_lr': 0.00011832726126277456, 'optimizer_weight_decay': 3.253248507274845e-06, 'lr_scheduler_factor': 0.5766221832547354, 'lr_scheduler_patience': 10, 'lr_scheduler_minlr': 2.244625304947951e-06}. Best is trial 3 with value: 65.3125.\n"
     ]
    },
    {
     "name": "stdout",
     "output_type": "stream",
     "text": [
      "tensor([[[64.3750]],\n",
      "\n",
      "        [[66.2500]]], device='cuda:0', dtype=torch.float16)\n",
      "{'n_iterations': 80, 'optimizer_lr': 0.00011832726126277456, 'optimizer_weight_decay': 3.253248507274845e-06, 'lr_scheduler_factor': 0.5766221832547354, 'lr_scheduler_patience': 10, 'lr_scheduler_minlr': 2.244625304947951e-06}\n"
     ]
    }
   ],
   "source": [
    "if __name__ == '__main__':\n",
    "    study = optuna.create_study(storage=\"sqlite:///../optuna_study_hparams.db\", study_name=\"optim_hparams\", direction='maximize', load_if_exists=True)\n",
    "    study.optimize(objective, n_trials=5)\n",
    "        \n",
    "    best_params = study.best_params\n",
    "    print(best_params)\n",
    "    # print every hyperparameter and its value in a separate line\n",
    "    for key, value in best_params.items():\n",
    "        print(f\"{key}: {value}\")"
   ]
  }
 ],
 "metadata": {
  "kernelspec": {
   "display_name": "nphm",
   "language": "python",
   "name": "python3"
  },
  "language_info": {
   "codemirror_mode": {
    "name": "ipython",
    "version": 3
   },
   "file_extension": ".py",
   "mimetype": "text/x-python",
   "name": "python",
   "nbconvert_exporter": "python",
   "pygments_lexer": "ipython3",
   "version": "3.9.18"
  }
 },
 "nbformat": 4,
 "nbformat_minor": 2
}
