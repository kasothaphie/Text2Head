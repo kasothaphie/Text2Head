{
 "cells": [
  {
   "cell_type": "code",
   "execution_count": 1,
   "metadata": {
    "ExecuteTime": {
     "end_time": "2023-12-04T17:26:46.968182Z",
     "start_time": "2023-12-04T17:26:31.487569Z"
    }
   },
   "outputs": [
    {
     "name": "stderr",
     "output_type": "stream",
     "text": [
      "/home/schmid/miniconda3/envs/nphm/lib/python3.9/site-packages/tqdm/auto.py:21: TqdmWarning: IProgress not found. Please update jupyter and ipywidgets. See https://ipywidgets.readthedocs.io/en/stable/user_install.html\n",
      "  from .autonotebook import tqdm as notebook_tqdm\n"
     ]
    }
   ],
   "source": [
    "\n",
    "import torch\n",
    "import matplotlib.pyplot as plt\n",
    "import json\n",
    "from torch.optim import Adam\n",
    "from utils.pipeline import forward, get_latent_mean_std, get_latent_from_text\n",
    "from utils.similarity import CLIP_similarity, DINO_similarity\n",
    "\n",
    "torch.cuda.empty_cache()"
   ]
  },
  {
   "cell_type": "code",
   "execution_count": 2,
   "metadata": {},
   "outputs": [],
   "source": [
    "dataset_path = '/home/schmid/data/validation_set.json'\n",
    "with open(dataset_path, 'r') as json_file:\n",
    "    data = json.load(json_file)\n",
    "\n",
    "prompt = data['heads'][3]['description neutral']\n",
    "CLIP_gt = data['heads'][3]['CLIP embedding']\n",
    "DINO_gt = data['heads'][3]['DINO embedding']"
   ]
  },
  {
   "cell_type": "code",
   "execution_count": 3,
   "metadata": {},
   "outputs": [
    {
     "name": "stderr",
     "output_type": "stream",
     "text": [
      "/home/schmid/miniconda3/envs/nphm/lib/python3.9/site-packages/torch/profiler/profiler.py:403: UserWarning: use_cuda is deprecated, use activities argument instead\n",
      "  warn(\"use_cuda is deprecated, use activities argument instead\")\n",
      "  0%|          | 0/120 [00:00<?, ?it/s]"
     ]
    },
    {
     "name": "stderr",
     "output_type": "stream",
     "text": [
      "/home/schmid/Text2Head/utils/pipeline.py:83: UserWarning: The use of `x.T` on tensors of dimension other than 2 to reverse their shape is deprecated and it will throw an error in a future release. Consider `x.mT` to transpose batches of matrices or `x.permute(*torch.arange(x.ndim - 1, -1, -1))` to reverse the dimensions of a tensor. (Triggered internally at ../aten/src/ATen/native/TensorShape.cpp:3277.)\n",
      "  prob_score = -delta.T @ torch.inverse(cov) @ delta\n",
      "100%|██████████| 120/120 [05:14<00:00,  2.62s/it]\n"
     ]
    },
    {
     "name": "stdout",
     "output_type": "stream",
     "text": [
      "best_CLIP_score tensor([[33.5281]])\n",
      "best_prob_score tensor(-6.2610)\n"
     ]
    },
    {
     "data": {
      "image/png": "[encoded data removed]",
      "text/plain": [
       "<Figure size 640x480 with 1 Axes>"
      ]
     },
     "metadata": {},
     "output_type": "display_data"
    }
   ],
   "source": [
    "lat_mean, lat_std = get_latent_mean_std()\n",
    "lat_rep = (torch.randn(lat_mean.shape) * lat_std * 0.85 + lat_mean).detach().requires_grad_(True)\n",
    "\n",
    "hparams = {\n",
    "        'resolution': 120,\n",
    "        'n_iterations': 120,\n",
    "        'optimizer_lr': 2e-4,\n",
    "        'optimizer_weight_decay': 5e-5,\n",
    "        'lr_scheduler_factor': 0.53,\n",
    "        'lr_scheduler_patience': 5,\n",
    "        'lr_scheduler_min_lr': 2.6e-6\n",
    "    }\n",
    "\n",
    "best_latent, best_CLIP_score, best_prob_score, hist = get_latent_from_text(prompt, hparams, CLIP_gt=CLIP_gt, DINO_gt=DINO_gt)\n",
    "print('best_CLIP_score', best_CLIP_score)\n",
    "print('best_prob_score', best_prob_score)\n",
    "\n",
    "lat_rep = best_latent\n",
    "'''\n",
    "camera_params = {\n",
    "        \"camera_distance\": 1.42,\n",
    "        \"camera_angle\": 45.,\n",
    "        \"focal_length\": 3.15,\n",
    "        \"max_ray_length\": 3, #(0.5 + 1) * 3.15 + 1.5,\n",
    "        # Image\n",
    "        \"resolution_y\": 200,\n",
    "        \"resolution_x\": 200\n",
    "    }\n",
    "\n",
    "phong_params = {\n",
    "    \"ambient_coeff\": 0.67,\n",
    "    \"diffuse_coeff\": 0.79,\n",
    "    \"specular_coeff\": 0.3,  # 0.63,\n",
    "    \"shininess\": 1.,\n",
    "    # Colors\n",
    "    \"object_color\": torch.tensor([0.61, 0.61, 0.61]),  # torch.tensor([0.63, 0.17, 0.78]),\n",
    "    \"background_color\": torch.tensor([0., 0., 0.])  # torch.tensor([0.35, 0.94, 0.26])\n",
    "}\n",
    "\n",
    "light_params = {\n",
    "    \"amb_light_color\": torch.tensor([0.57, 0.5, 0.69]),\n",
    "    # light 1\n",
    "    \"light_intensity_1\": 1.,  # 1.1,\n",
    "    \"light_color_1\": torch.tensor([1., 1., 1.]),\n",
    "    \"light_dir_1\": torch.tensor([-0.41, -0.51, -0.76]),\n",
    "    # light p\n",
    "    \"light_intensity_p\": 0.,\n",
    "    \"light_color_p\": torch.tensor([0.88, 0.99, 0.74]),\n",
    "    \"light_pos_p\": torch.tensor([2., 0., 2.])\n",
    "}\n",
    "'''\n",
    "camera_params = {\n",
    "    \"camera_distance\": 0.21,\n",
    "    \"camera_angle\": 45.,\n",
    "    \"focal_length\": 2.57,\n",
    "    \"max_ray_length\": 3,\n",
    "    # Image\n",
    "    \"resolution_y\": hparams['resolution'],\n",
    "    \"resolution_x\": hparams['resolution']\n",
    "}\n",
    "phong_params = {\n",
    "    \"ambient_coeff\": 0.51,\n",
    "    \"diffuse_coeff\": 0.75,\n",
    "    \"specular_coeff\": 0.64,\n",
    "    \"shininess\": 0.5,\n",
    "    # Colors\n",
    "    \"object_color\": torch.tensor([0.53, 0.24, 0.64]),\n",
    "    \"background_color\": torch.tensor([0.36, 0.77, 0.29])\n",
    "}\n",
    "\n",
    "light_params = {\n",
    "    \"amb_light_color\": torch.tensor([0.9, 0.16, 0.55]),\n",
    "    # light 1\n",
    "    \"light_intensity_1\": 1.42,\n",
    "    \"light_color_1\": torch.tensor([0.8, 0.97, 0.89]),\n",
    "    \"light_dir_1\": torch.tensor([-0.6, -0.4, -0.67]),\n",
    "    # light p\n",
    "    \"light_intensity_p\": 0.62,\n",
    "    \"light_color_p\": torch.tensor([0.8, 0.97, 0.89]),\n",
    "    \"light_pos_p\": torch.tensor([1.19, -1.27, 2.24])\n",
    "}\n",
    "\n",
    "with torch.no_grad():\n",
    "    score_CLIP, score_prob, image = forward(lat_rep, \"untextured render of a face\", camera_params, phong_params, light_params)\n",
    "plt.imshow(image.detach().numpy())\n",
    "plt.axis('off')  # Turn off axes\n",
    "#plt.savefig(\"../optim_img/6\", bbox_inches='tight')\n",
    "plt.show()"
   ]
  },
  {
   "cell_type": "code",
   "execution_count": 24,
   "metadata": {},
   "outputs": [
    {
     "name": "stdout",
     "output_type": "stream",
     "text": [
      "subject  017\n",
      "CLIP:  tensor([[77.3750]], device='cuda:0', dtype=torch.float16)\n",
      "DINO:  tensor([[88.2918]], device='cuda:0')\n",
      "##########\n",
      "subject  018\n",
      "CLIP:  tensor([[87.1875]], device='cuda:0', dtype=torch.float16)\n",
      "DINO:  tensor([[91.7979]], device='cuda:0')\n",
      "##########\n",
      "subject  019\n",
      "CLIP:  tensor([[75.7500]], device='cuda:0', dtype=torch.float16)\n",
      "DINO:  tensor([[92.2992]], device='cuda:0')\n",
      "##########\n",
      "subject  020\n",
      "CLIP:  tensor([[75.1250]], device='cuda:0', dtype=torch.float16)\n",
      "DINO:  tensor([[88.9839]], device='cuda:0')\n",
      "##########\n",
      "subject  022\n",
      "CLIP:  tensor([[75.1875]], device='cuda:0', dtype=torch.float16)\n",
      "DINO:  tensor([[92.9109]], device='cuda:0')\n",
      "##########\n",
      "subject  023\n",
      "CLIP:  tensor([[83.6250]], device='cuda:0', dtype=torch.float16)\n",
      "DINO:  tensor([[92.9597]], device='cuda:0')\n",
      "##########\n",
      "subject  024\n",
      "CLIP:  tensor([[73.5625]], device='cuda:0', dtype=torch.float16)\n",
      "DINO:  tensor([[90.7267]], device='cuda:0')\n",
      "##########\n",
      "subject  025\n",
      "CLIP:  tensor([[77.6875]], device='cuda:0', dtype=torch.float16)\n",
      "DINO:  tensor([[91.5666]], device='cuda:0')\n",
      "##########\n",
      "subject  026\n",
      "CLIP:  tensor([[80.5000]], device='cuda:0', dtype=torch.float16)\n",
      "DINO:  tensor([[91.6384]], device='cuda:0')\n",
      "##########\n",
      "subject  027\n",
      "CLIP:  tensor([[87.7500]], device='cuda:0', dtype=torch.float16)\n",
      "DINO:  tensor([[91.8085]], device='cuda:0')\n",
      "##########\n"
     ]
    },
    {
     "data": {
      "image/png": "[encoded data removed]",
      "text/plain": [
       "<Figure size 640x480 with 1 Axes>"
      ]
     },
     "metadata": {},
     "output_type": "display_data"
    }
   ],
   "source": [
    "clip = []\n",
    "dino = []\n",
    "\n",
    "for entry in data['heads']:\n",
    "    subject = entry['subject']\n",
    "    clip_embedding = entry['CLIP embedding']\n",
    "    dino_embedding = entry['DINO embedding']\n",
    "    \n",
    "    clip_sim = CLIP_similarity(image, clip_embedding)\n",
    "    dino_sim = DINO_similarity(image, dino_embedding)\n",
    "    clip.append(clip_sim)\n",
    "    dino.append(dino_sim)\n",
    "\n",
    "    print('subject ', subject)\n",
    "    print('CLIP: ', clip_sim)\n",
    "    print('DINO: ', dino_sim)\n",
    "    print('##########')\n",
    "\n",
    "\n",
    "plt.plot(torch.tensor(clip).numpy(), label='CLIP')\n",
    "plt.plot(torch.tensor(dino).numpy(), label='DINO')\n",
    "\n",
    "plt.xlabel('Subject')\n",
    "plt.ylabel('Similarity (%)')\n",
    "plt.legend()\n",
    "plt.show()"
   ]
  },
  {
   "cell_type": "code",
   "execution_count": null,
   "metadata": {
    "ExecuteTime": {
     "end_time": "2023-12-04T17:26:48.754399Z",
     "start_time": "2023-12-04T17:26:48.709693Z"
    }
   },
   "outputs": [],
   "source": [
    "lat_mean, lat_std = get_latent_mean_std()\n",
    "lat_rep = (torch.randn(lat_mean.shape) * lat_std * 0.85 + lat_mean).detach().requires_grad_(True)"
   ]
  },
  {
   "cell_type": "code",
   "execution_count": null,
   "metadata": {
    "ExecuteTime": {
     "end_time": "2023-12-04T17:26:49.411931Z",
     "start_time": "2023-12-04T17:26:49.379419Z"
    }
   },
   "outputs": [],
   "source": [
    "optimizer = Adam(params=[lat_rep],\n",
    "                 lr=0.001, \n",
    "                 maximize=True)"
   ]
  },
  {
   "cell_type": "code",
   "execution_count": null,
   "metadata": {
    "ExecuteTime": {
     "end_time": "2023-12-04T17:39:06.598585Z",
     "start_time": "2023-12-04T17:39:06.522400Z"
    }
   },
   "outputs": [],
   "source": [
    "camera_params = {\n",
    "        \"camera_distance\": 1.42,\n",
    "        \"camera_angle\": -55.,\n",
    "        \"focal_length\": 3.15,\n",
    "        \"max_ray_length\": 3, #(0.5 + 1) * 3.15 + 1.5,\n",
    "        # Image\n",
    "        \"resolution_y\": 200,\n",
    "        \"resolution_x\": 200\n",
    "    }\n",
    "\n",
    "phong_params = {\n",
    "    \"ambient_coeff\": 0.67,\n",
    "    \"diffuse_coeff\": 0.79,\n",
    "    \"specular_coeff\": 0.3,  # 0.63,\n",
    "    \"shininess\": 1.,\n",
    "    # Colors\n",
    "    \"object_color\": torch.tensor([0.61, 0.61, 0.61]),  # torch.tensor([0.63, 0.17, 0.78]),\n",
    "    \"background_color\": torch.tensor([0., 0., 0.])  # torch.tensor([0.35, 0.94, 0.26])\n",
    "}\n",
    "\n",
    "light_params = {\n",
    "    \"amb_light_color\": torch.tensor([0.57, 0.07, 0.69]),\n",
    "    # light 1\n",
    "    \"light_intensity_1\": 0.,  # 1.1,\n",
    "    \"light_color_1\": torch.tensor([0.88, 0.99, 0.74]),\n",
    "    \"light_dir_1\": torch.tensor([-0.41, -0.51, -0.76]),\n",
    "    # light p\n",
    "    \"light_intensity_p\": 1.,\n",
    "    \"light_color_p\": torch.tensor([0.88, 0.99, 0.74]),\n",
    "    \"light_pos_p\": torch.tensor([2., 0., 2.])\n",
    "}"
   ]
  },
  {
   "cell_type": "code",
   "execution_count": null,
   "metadata": {
    "ExecuteTime": {
     "end_time": "2023-12-04T17:41:26.028602Z",
     "start_time": "2023-12-04T17:39:08.011236Z"
    }
   },
   "outputs": [],
   "source": [
    "with torch.no_grad():\n",
    "    score_CLIP, score_prob, image = forward(lat_rep, \"untextured render of a face\", camera_params, phong_params, light_params)\n",
    "plt.imshow(image.detach().numpy())\n",
    "plt.axis('off')  # Turn off axes\n",
    "plt.show()"
   ]
  },
  {
   "cell_type": "code",
   "execution_count": null,
   "metadata": {
    "ExecuteTime": {
     "end_time": "2023-12-04T17:45:05.085670Z",
     "start_time": "2023-12-04T17:42:34.071637Z"
    },
    "collapsed": false
   },
   "outputs": [],
   "source": [
    "\n",
    "score[0].backward()"
   ]
  },
  {
   "cell_type": "code",
   "execution_count": null,
   "metadata": {},
   "outputs": [],
   "source": [
    "init_latent = torch.load(\"../woman_latent\")"
   ]
  },
  {
   "cell_type": "code",
   "execution_count": null,
   "metadata": {
    "ExecuteTime": {
     "end_time": "2023-12-04T17:30:14.678555Z",
     "start_time": "2023-12-04T17:29:14.530220Z"
    }
   },
   "outputs": [],
   "source": [
    "hparams = {\n",
    "        'resolution': 120,\n",
    "        'n_iterations': 80,\n",
    "        'optimizer_lr': 1.4e-3,\n",
    "        'lr_scheduler_factor': 0.53,\n",
    "        'lr_scheduler_patience': 5,\n",
    "        'lr_scheduler_min_lr': 2.6e-5\n",
    "    }\n",
    "\n",
    "#torch.cuda.memory._record_memory_history(True)\n",
    "best_latent, best_score, hist = get_latent_from_text(\"A person with curly hair\", hparams, init_lat=lat_mean)\n",
    "#torch.cuda.memory._record_memory_history(False)\n",
    "#torch.cuda.memory._dump_snapshot(\"../memory_snapshot.pickle\")\n",
    "print(best_score)"
   ]
  },
  {
   "cell_type": "code",
   "execution_count": null,
   "metadata": {},
   "outputs": [],
   "source": [
    "latent = None"
   ]
  },
  {
   "cell_type": "code",
   "execution_count": null,
   "metadata": {
    "ExecuteTime": {
     "end_time": "2023-12-04T17:32:05.779761Z",
     "start_time": "2023-12-04T17:32:04.932225Z"
    }
   },
   "outputs": [],
   "source": [
    "plt.plot(torch.tensor(hist[\"scores\"]).numpy())"
   ]
  },
  {
   "cell_type": "code",
   "execution_count": null,
   "metadata": {
    "ExecuteTime": {
     "end_time": "2023-12-04T17:32:08.607684Z",
     "start_time": "2023-12-04T17:32:08.594915Z"
    }
   },
   "outputs": [],
   "source": [
    "torch.save(latent, \"../woman_latent\")"
   ]
  },
  {
   "cell_type": "code",
   "execution_count": null,
   "metadata": {
    "collapsed": false
   },
   "outputs": [],
   "source": [
    "torch.save(torch.stack(hist[\"latents\"]), \"latent_history\")"
   ]
  },
  {
   "cell_type": "code",
   "execution_count": null,
   "metadata": {
    "collapsed": false
   },
   "outputs": [],
   "source": [
    "torch.save(torch.stack(hist[\"images\"]), \"render_history\")"
   ]
  },
  {
   "cell_type": "code",
   "execution_count": null,
   "metadata": {
    "ExecuteTime": {
     "end_time": "2023-12-04T17:32:12.595200Z",
     "start_time": "2023-12-04T17:32:12.474059Z"
    },
    "collapsed": false
   },
   "outputs": [],
   "source": [
    "plt.imshow(hist[\"images\"][-1].detach().numpy())\n",
    "plt.axis('off')  # Turn off axes\n",
    "plt.show()\n",
    "#plt.savefig(f\"optim_img/high_lr_{i}\", bbox_inches='tight')"
   ]
  },
  {
   "cell_type": "code",
   "execution_count": null,
   "metadata": {
    "ExecuteTime": {
     "end_time": "2023-12-04T17:32:20.206671Z",
     "start_time": "2023-12-04T17:32:15.457577Z"
    },
    "collapsed": false
   },
   "outputs": [],
   "source": [
    "for i, im in enumerate(hist[\"images\"]):\n",
    "    plt.imshow(im.detach().numpy())\n",
    "    plt.axis('off')  # Turn off axes\n",
    "    #plt.show()\n",
    "    plt.savefig(f\"../optim_img/{i}\", bbox_inches='tight')"
   ]
  },
  {
   "cell_type": "code",
   "execution_count": null,
   "metadata": {
    "collapsed": false
   },
   "outputs": [],
   "source": []
  }
 ],
 "metadata": {
  "kernelspec": {
   "display_name": "nphm",
   "language": "python",
   "name": "python3"
  },
  "language_info": {
   "codemirror_mode": {
    "name": "ipython",
    "version": 3
   },
   "file_extension": ".py",
   "mimetype": "text/x-python",
   "name": "python",
   "nbconvert_exporter": "python",
   "pygments_lexer": "ipython3",
   "version": "3.9.18"
  }
 },
 "nbformat": 4,
 "nbformat_minor": 2
}
