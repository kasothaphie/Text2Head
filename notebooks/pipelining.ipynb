{
 "cells": [
  {
   "cell_type": "code",
   "execution_count": 6,
   "metadata": {
    "ExecuteTime": {
     "end_time": "2023-12-04T17:26:46.968182Z",
     "start_time": "2023-12-04T17:26:31.487569Z"
    }
   },
   "outputs": [],
   "source": [
<<<<<<< HEAD
    "%env CUDA_DEVICE_ORDER=PCI_BUS_ID\n",
    "%env CUDA_VISIBLE_DEVICES=0\n",
=======
>>>>>>> 8776b4a (small adaptions)
    "\n",
    "import torch\n",
    "import matplotlib.pyplot as plt\n",
    "from torch.optim import Adam\n",
    "from utils.pipeline import forward, get_latent_mean_std, get_latent_from_text\n",
    "\n",
    "from torch.profiler import profile, record_function, ProfilerActivity\n",
    "\n",
    "torch.cuda.empty_cache()"
   ]
  },
  {
   "cell_type": "code",
   "execution_count": 7,
   "metadata": {},
   "outputs": [
    {
     "name": "stderr",
     "output_type": "stream",
     "text": [
      "  0%|          | 0/90 [00:00<?, ?it/s]"
     ]
    },
    {
     "name": "stderr",
     "output_type": "stream",
     "text": [
      "\n"
     ]
    },
    {
     "ename": "OutOfMemoryError",
     "evalue": "CUDA out of memory. Tried to allocate 142.00 MiB (GPU 0; 10.91 GiB total capacity; 10.06 GiB already allocated; 9.44 MiB free; 10.26 GiB reserved in total by PyTorch) If reserved memory is >> allocated memory try setting max_split_size_mb to avoid fragmentation.  See documentation for Memory Management and PYTORCH_CUDA_ALLOC_CONF",
     "output_type": "error",
     "traceback": [
      "\u001b[0;31m---------------------------------------------------------------------------\u001b[0m",
      "\u001b[0;31mOutOfMemoryError\u001b[0m                          Traceback (most recent call last)",
      "\u001b[1;32m/home/schmid/Text2Head/notebooks/pipelining.ipynb Cell 2\u001b[0m line \u001b[0;36m1\n\u001b[1;32m      <a href='vscode-notebook-cell://ssh-remote%2Bniessnerlab/home/schmid/Text2Head/notebooks/pipelining.ipynb#W1sdnNjb2RlLXJlbW90ZQ%3D%3D?line=1'>2</a>\u001b[0m lat_rep \u001b[39m=\u001b[39m (torch\u001b[39m.\u001b[39mrandn(lat_mean\u001b[39m.\u001b[39mshape) \u001b[39m*\u001b[39m lat_std \u001b[39m*\u001b[39m \u001b[39m0.85\u001b[39m \u001b[39m+\u001b[39m lat_mean)\u001b[39m.\u001b[39mdetach()\u001b[39m.\u001b[39mrequires_grad_(\u001b[39mTrue\u001b[39;00m)\n\u001b[1;32m      <a href='vscode-notebook-cell://ssh-remote%2Bniessnerlab/home/schmid/Text2Head/notebooks/pipelining.ipynb#W1sdnNjb2RlLXJlbW90ZQ%3D%3D?line=3'>4</a>\u001b[0m hparams \u001b[39m=\u001b[39m {\n\u001b[1;32m      <a href='vscode-notebook-cell://ssh-remote%2Bniessnerlab/home/schmid/Text2Head/notebooks/pipelining.ipynb#W1sdnNjb2RlLXJlbW90ZQ%3D%3D?line=4'>5</a>\u001b[0m         \u001b[39m'\u001b[39m\u001b[39mresolution\u001b[39m\u001b[39m'\u001b[39m: \u001b[39m120\u001b[39m,\n\u001b[1;32m      <a href='vscode-notebook-cell://ssh-remote%2Bniessnerlab/home/schmid/Text2Head/notebooks/pipelining.ipynb#W1sdnNjb2RlLXJlbW90ZQ%3D%3D?line=5'>6</a>\u001b[0m         \u001b[39m'\u001b[39m\u001b[39mn_iterations\u001b[39m\u001b[39m'\u001b[39m: \u001b[39m90\u001b[39m,\n\u001b[0;32m   (...)\u001b[0m\n\u001b[1;32m     <a href='vscode-notebook-cell://ssh-remote%2Bniessnerlab/home/schmid/Text2Head/notebooks/pipelining.ipynb#W1sdnNjb2RlLXJlbW90ZQ%3D%3D?line=9'>10</a>\u001b[0m         \u001b[39m'\u001b[39m\u001b[39mlr_scheduler_min_lr\u001b[39m\u001b[39m'\u001b[39m: \u001b[39m2.6e-5\u001b[39m\n\u001b[1;32m     <a href='vscode-notebook-cell://ssh-remote%2Bniessnerlab/home/schmid/Text2Head/notebooks/pipelining.ipynb#W1sdnNjb2RlLXJlbW90ZQ%3D%3D?line=10'>11</a>\u001b[0m     }\n\u001b[0;32m---> <a href='vscode-notebook-cell://ssh-remote%2Bniessnerlab/home/schmid/Text2Head/notebooks/pipelining.ipynb#W1sdnNjb2RlLXJlbW90ZQ%3D%3D?line=12'>13</a>\u001b[0m best_latent, best_CLIP_score, best_prob_score, hist \u001b[39m=\u001b[39m get_latent_from_text(\u001b[39m\"\u001b[39;49m\u001b[39mAn Asian person\u001b[39;49m\u001b[39m\"\u001b[39;49m, hparams)\u001b[39m#, init_lat=lat_mean)\u001b[39;00m\n\u001b[1;32m     <a href='vscode-notebook-cell://ssh-remote%2Bniessnerlab/home/schmid/Text2Head/notebooks/pipelining.ipynb#W1sdnNjb2RlLXJlbW90ZQ%3D%3D?line=13'>14</a>\u001b[0m \u001b[39mprint\u001b[39m(\u001b[39m'\u001b[39m\u001b[39mbest_CLIP_score\u001b[39m\u001b[39m'\u001b[39m, best_CLIP_score)\n\u001b[1;32m     <a href='vscode-notebook-cell://ssh-remote%2Bniessnerlab/home/schmid/Text2Head/notebooks/pipelining.ipynb#W1sdnNjb2RlLXJlbW90ZQ%3D%3D?line=14'>15</a>\u001b[0m \u001b[39mprint\u001b[39m(\u001b[39m'\u001b[39m\u001b[39mbest_prob_score\u001b[39m\u001b[39m'\u001b[39m, best_prob_score)\n",
      "File \u001b[0;32m~/Text2Head/utils/pipeline.py:166\u001b[0m, in \u001b[0;36mget_latent_from_text\u001b[0;34m(prompt, hparams, init_lat)\u001b[0m\n\u001b[1;32m    162\u001b[0m     light_params[\u001b[39m\"\u001b[39m\u001b[39mlight_dir_1\u001b[39m\u001b[39m\"\u001b[39m] \u001b[39m=\u001b[39m torch\u001b[39m.\u001b[39mtensor([\u001b[39m0.6\u001b[39m, \u001b[39m-\u001b[39m\u001b[39m0.4\u001b[39m, \u001b[39m-\u001b[39m\u001b[39m0.67\u001b[39m])\n\u001b[1;32m    163\u001b[0m     light_params[\u001b[39m\"\u001b[39m\u001b[39mlight_pos_p\u001b[39m\u001b[39m\"\u001b[39m] \u001b[39m=\u001b[39m torch\u001b[39m.\u001b[39mtensor([\u001b[39m-\u001b[39m\u001b[39m1.19\u001b[39m, \u001b[39m-\u001b[39m\u001b[39m1.27\u001b[39m, \u001b[39m2.24\u001b[39m])\n\u001b[0;32m--> 166\u001b[0m CLIP_score, log_prob_score, image \u001b[39m=\u001b[39m forward(lat_rep, prompt, camera_params, phong_params, light_params)\n\u001b[1;32m    167\u001b[0m score \u001b[39m=\u001b[39m CLIP_score \u001b[39m+\u001b[39m \u001b[39m0.5\u001b[39m \u001b[39m*\u001b[39m log_prob_score\n\u001b[1;32m    168\u001b[0m \u001b[39m#score, image = forward(lat_rep, prompt, camera_params, phong_params, light_params)\u001b[39;00m\n",
      "File \u001b[0;32m~/Text2Head/utils/pipeline.py:66\u001b[0m, in \u001b[0;36mforward\u001b[0;34m(lat_rep, prompt, camera_params, phong_params, light_params)\u001b[0m\n\u001b[1;32m     65\u001b[0m \u001b[39mdef\u001b[39;00m \u001b[39mforward\u001b[39m(lat_rep, prompt, camera_params, phong_params, light_params):\n\u001b[0;32m---> 66\u001b[0m     image \u001b[39m=\u001b[39m render(decoder_shape, lat_rep, camera_params, phong_params, light_params)\n\u001b[1;32m     68\u001b[0m     image_c_first \u001b[39m=\u001b[39m image\u001b[39m.\u001b[39mpermute(\u001b[39m2\u001b[39m, \u001b[39m0\u001b[39m, \u001b[39m1\u001b[39m)\n\u001b[1;32m     69\u001b[0m     image_preprocessed \u001b[39m=\u001b[39m clip_tensor_preprocessor(image_c_first)\u001b[39m.\u001b[39munsqueeze(\u001b[39m0\u001b[39m)\u001b[39m.\u001b[39mcpu()\n",
      "File \u001b[0;32m~/Text2Head/utils/render.py:206\u001b[0m, in \u001b[0;36mrender\u001b[0;34m(model, lat_rep, camera_params, phong_params, light_params, mesh_path)\u001b[0m\n\u001b[1;32m    203\u001b[0m     N \u001b[39m=\u001b[39m directions\u001b[39m.\u001b[39mshape[\u001b[39m0\u001b[39m]\n\u001b[1;32m    204\u001b[0m     starting_positions \u001b[39m=\u001b[39m camera_position\u001b[39m.\u001b[39munsqueeze(dim\u001b[39m=\u001b[39m\u001b[39m0\u001b[39m)\u001b[39m.\u001b[39mrepeat(N, \u001b[39m1\u001b[39m) \u001b[39m+\u001b[39m first_step_length \u001b[39m*\u001b[39m directions\n\u001b[0;32m--> 206\u001b[0m     hit_positions, hit_mask \u001b[39m=\u001b[39m two_phase_tracing(sdf, starting_positions, directions, camera_params[\u001b[39m'\u001b[39;49m\u001b[39mmax_ray_length\u001b[39;49m\u001b[39m'\u001b[39;49m])\n\u001b[1;32m    207\u001b[0m \u001b[39m# Option 2: Use Mesh\u001b[39;00m\n\u001b[1;32m    208\u001b[0m \u001b[39m# intersections, hit_mask, index_tri = mesh_trace(mesh_path, camera_position, directions)\u001b[39;00m\n\u001b[1;32m    209\u001b[0m \n\u001b[1;32m    210\u001b[0m \u001b[39m#with torch.no_grad():\u001b[39;00m\n\u001b[1;32m    211\u001b[0m \u001b[39m# Option 1: Use SDF\u001b[39;00m\n\u001b[1;32m    212\u001b[0m reflections \u001b[39m=\u001b[39m phong_model(sdf, hit_positions[hit_mask], camera_position, phong_params, light_params, mesh_path)\n",
      "File \u001b[0;32m~/Text2Head/utils/render.py:140\u001b[0m, in \u001b[0;36mtwo_phase_tracing\u001b[0;34m(sdf, camera_position, norm_directions, max_length, scale, eps)\u001b[0m\n\u001b[1;32m    138\u001b[0m N \u001b[39m=\u001b[39m norm_directions\u001b[39m.\u001b[39mshape[\u001b[39m0\u001b[39m]\n\u001b[1;32m    139\u001b[0m \u001b[39mwith\u001b[39;00m torch\u001b[39m.\u001b[39mno_grad():\n\u001b[0;32m--> 140\u001b[0m     hits_1, hit_mask_1, t_1 \u001b[39m=\u001b[39m acc_sphere_trace(sdf, camera_position, norm_directions, max_length,\n\u001b[1;32m    141\u001b[0m                                                             scale\u001b[39m=\u001b[39;49m\u001b[39m2.\u001b[39;49m, eps\u001b[39m=\u001b[39;49m\u001b[39m0.025\u001b[39;49m)\n\u001b[1;32m    142\u001b[0m hits_2, hit_mask_2, t_2 \u001b[39m=\u001b[39m acc_sphere_trace(sdf, hits_1[hit_mask_1], norm_directions[hit_mask_1], \u001b[39m3.\u001b[39m,\n\u001b[1;32m    143\u001b[0m                                                         scale\u001b[39m=\u001b[39mnp\u001b[39m.\u001b[39msqrt(\u001b[39m2.\u001b[39m), eps\u001b[39m=\u001b[39m\u001b[39m0.005\u001b[39m)\n\u001b[1;32m    145\u001b[0m hit_mask \u001b[39m=\u001b[39m torch\u001b[39m.\u001b[39mzeros(N)\u001b[39m.\u001b[39mbool()\n",
      "File \u001b[0;32m~/Text2Head/utils/render.py:117\u001b[0m, in \u001b[0;36macc_sphere_trace\u001b[0;34m(sdf, init_position, norm_directions, max_length, scale, eps, init_t)\u001b[0m\n\u001b[1;32m    113\u001b[0m     \u001b[39mbreak\u001b[39;00m\n\u001b[1;32m    115\u001b[0m d_curr[mask] \u001b[39m=\u001b[39m r_curr[mask] \u001b[39m+\u001b[39m scale \u001b[39m*\u001b[39m r_curr[mask] \u001b[39m*\u001b[39m torch\u001b[39m.\u001b[39mnan_to_num(\n\u001b[1;32m    116\u001b[0m     (d_curr[mask] \u001b[39m-\u001b[39m r_last[mask] \u001b[39m+\u001b[39m r_curr[mask]) \u001b[39m/\u001b[39m (d_curr[mask] \u001b[39m+\u001b[39m r_last[mask] \u001b[39m-\u001b[39m r_curr[mask]))\n\u001b[0;32m--> 117\u001b[0m r_next[mask] \u001b[39m=\u001b[39m sdf(positions[mask] \u001b[39m+\u001b[39;49m ((t[mask] \u001b[39m+\u001b[39;49m d_curr[mask]) \u001b[39m*\u001b[39;49m norm_directions[mask]\u001b[39m.\u001b[39;49mT)\u001b[39m.\u001b[39;49mT)\n\u001b[1;32m    119\u001b[0m normal_tracing_mask \u001b[39m=\u001b[39m torch\u001b[39m.\u001b[39mabs(d_curr[mask]) \u001b[39m>\u001b[39m torch\u001b[39m.\u001b[39mabs(r_curr[mask]) \u001b[39m+\u001b[39m torch\u001b[39m.\u001b[39mabs(r_next[mask])\n\u001b[1;32m    120\u001b[0m \u001b[39mif\u001b[39;00m torch\u001b[39m.\u001b[39many(normal_tracing_mask):\n",
      "File \u001b[0;32m~/Text2Head/utils/render.py:168\u001b[0m, in \u001b[0;36mrender.<locals>.sdf\u001b[0;34m(positions, max_number)\u001b[0m\n\u001b[1;32m    166\u001b[0m     \u001b[39mreturn\u001b[39;00m torch\u001b[39m.\u001b[39mcat(distances, dim\u001b[39m=\u001b[39m\u001b[39m1\u001b[39m)\u001b[39m.\u001b[39msqueeze()\n\u001b[1;32m    167\u001b[0m \u001b[39melse\u001b[39;00m:\n\u001b[0;32m--> 168\u001b[0m     distance \u001b[39m=\u001b[39m model(nphm_input\u001b[39m.\u001b[39;49mto(device), lat_rep_in\u001b[39m.\u001b[39;49mto(device), \u001b[39mNone\u001b[39;49;00m)[\u001b[39m0\u001b[39m]\u001b[39m.\u001b[39mto(\u001b[39m\"\u001b[39m\u001b[39mcpu\u001b[39m\u001b[39m\"\u001b[39m)\n\u001b[1;32m    169\u001b[0m     \u001b[39mreturn\u001b[39;00m distance\u001b[39m.\u001b[39msqueeze()\n",
      "File \u001b[0;32m~/miniconda3/envs/nphm/lib/python3.9/site-packages/torch/nn/modules/module.py:1190\u001b[0m, in \u001b[0;36mModule._call_impl\u001b[0;34m(self, *input, **kwargs)\u001b[0m\n\u001b[1;32m   1186\u001b[0m \u001b[39m# If we don't have any hooks, we want to skip the rest of the logic in\u001b[39;00m\n\u001b[1;32m   1187\u001b[0m \u001b[39m# this function, and just call forward.\u001b[39;00m\n\u001b[1;32m   1188\u001b[0m \u001b[39mif\u001b[39;00m \u001b[39mnot\u001b[39;00m (\u001b[39mself\u001b[39m\u001b[39m.\u001b[39m_backward_hooks \u001b[39mor\u001b[39;00m \u001b[39mself\u001b[39m\u001b[39m.\u001b[39m_forward_hooks \u001b[39mor\u001b[39;00m \u001b[39mself\u001b[39m\u001b[39m.\u001b[39m_forward_pre_hooks \u001b[39mor\u001b[39;00m _global_backward_hooks\n\u001b[1;32m   1189\u001b[0m         \u001b[39mor\u001b[39;00m _global_forward_hooks \u001b[39mor\u001b[39;00m _global_forward_pre_hooks):\n\u001b[0;32m-> 1190\u001b[0m     \u001b[39mreturn\u001b[39;00m forward_call(\u001b[39m*\u001b[39;49m\u001b[39minput\u001b[39;49m, \u001b[39m*\u001b[39;49m\u001b[39m*\u001b[39;49mkwargs)\n\u001b[1;32m   1191\u001b[0m \u001b[39m# Do not call functions when jit is used\u001b[39;00m\n\u001b[1;32m   1192\u001b[0m full_backward_hooks, non_full_backward_hooks \u001b[39m=\u001b[39m [], []\n",
      "File \u001b[0;32m~/Text2Head/NPHM/src/NPHM/models/EnsembledDeepSDF.py:247\u001b[0m, in \u001b[0;36mFastEnsembleDeepSDFMirrored.forward\u001b[0;34m(self, xyz, lat_rep, anchors_gt)\u001b[0m\n\u001b[1;32m    244\u001b[0m coords[:, :, \u001b[39m1\u001b[39m:\u001b[39m2\u001b[39m\u001b[39m*\u001b[39m\u001b[39mself\u001b[39m\u001b[39m.\u001b[39mnum_symm_pairs:\u001b[39m2\u001b[39m, \u001b[39m0\u001b[39m] \u001b[39m*\u001b[39m\u001b[39m=\u001b[39m \u001b[39m-\u001b[39m\u001b[39m1\u001b[39m\n\u001b[1;32m    246\u001b[0m \u001b[39m# prepare latent codes\u001b[39;00m\n\u001b[0;32m--> 247\u001b[0m t1 \u001b[39m=\u001b[39m lat_rep[:, :, :\u001b[39mself\u001b[39;49m\u001b[39m.\u001b[39;49mlat_dim_glob]\u001b[39m.\u001b[39;49munsqueeze(\u001b[39m2\u001b[39;49m)\u001b[39m.\u001b[39;49mrepeat(\u001b[39m1\u001b[39;49m, \u001b[39m1\u001b[39;49m, \u001b[39mself\u001b[39;49m\u001b[39m.\u001b[39;49mnum_kps\u001b[39m+\u001b[39;49m\u001b[39m1\u001b[39;49m, \u001b[39m1\u001b[39;49m)\n\u001b[1;32m    248\u001b[0m t2 \u001b[39m=\u001b[39m lat_rep[:, :, \u001b[39mself\u001b[39m\u001b[39m.\u001b[39mlat_dim_glob:]\u001b[39m.\u001b[39mreshape(B, \u001b[39m-\u001b[39m\u001b[39m1\u001b[39m, \u001b[39mself\u001b[39m\u001b[39m.\u001b[39mnum_kps\u001b[39m+\u001b[39m\u001b[39m1\u001b[39m, \u001b[39mself\u001b[39m\u001b[39m.\u001b[39mlat_dim_loc)\n\u001b[1;32m    249\u001b[0m \u001b[39mif\u001b[39;00m t2\u001b[39m.\u001b[39mshape[\u001b[39m1\u001b[39m] \u001b[39m!=\u001b[39m N:\n",
      "\u001b[0;31mOutOfMemoryError\u001b[0m: CUDA out of memory. Tried to allocate 142.00 MiB (GPU 0; 10.91 GiB total capacity; 10.06 GiB already allocated; 9.44 MiB free; 10.26 GiB reserved in total by PyTorch) If reserved memory is >> allocated memory try setting max_split_size_mb to avoid fragmentation.  See documentation for Memory Management and PYTORCH_CUDA_ALLOC_CONF"
     ]
    }
   ],
   "source": [
    "lat_mean, lat_std = get_latent_mean_std()\n",
    "lat_rep = (torch.randn(lat_mean.shape) * lat_std * 0.85 + lat_mean).detach().requires_grad_(True)\n",
    "\n",
    "hparams = {\n",
    "        'resolution': 120,\n",
    "        'n_iterations': 90,\n",
    "        'optimizer_lr': 1.4e-3,\n",
    "        'lr_scheduler_factor': 0.53,\n",
    "        'lr_scheduler_patience': 5,\n",
    "        'lr_scheduler_min_lr': 2.6e-5\n",
    "    }\n",
    "\n",
    "best_latent, best_CLIP_score, best_prob_score, hist = get_latent_from_text(\"An Asian person\", hparams)#, init_lat=lat_mean)\n",
    "print('best_CLIP_score', best_CLIP_score)\n",
    "print('best_prob_score', best_prob_score)\n",
    "\n",
    "lat_rep = best_latent\n",
    "\n",
    "camera_params = {\n",
    "        \"camera_distance\": 1.42,\n",
    "        \"camera_angle\": 45.,\n",
    "        \"focal_length\": 3.15,\n",
    "        \"max_ray_length\": 3, #(0.5 + 1) * 3.15 + 1.5,\n",
    "        # Image\n",
    "        \"resolution_y\": 200,\n",
    "        \"resolution_x\": 200\n",
    "    }\n",
    "\n",
    "phong_params = {\n",
    "    \"ambient_coeff\": 0.67,\n",
    "    \"diffuse_coeff\": 0.79,\n",
    "    \"specular_coeff\": 0.3,  # 0.63,\n",
    "    \"shininess\": 1.,\n",
    "    # Colors\n",
    "    \"object_color\": torch.tensor([0.61, 0.61, 0.61]),  # torch.tensor([0.63, 0.17, 0.78]),\n",
    "    \"background_color\": torch.tensor([0., 0., 0.])  # torch.tensor([0.35, 0.94, 0.26])\n",
    "}\n",
    "\n",
    "light_params = {\n",
    "    \"amb_light_color\": torch.tensor([0.57, 0.5, 0.69]),\n",
    "    # light 1\n",
    "    \"light_intensity_1\": 1.,  # 1.1,\n",
    "    \"light_color_1\": torch.tensor([1., 1., 1.]),\n",
    "    \"light_dir_1\": torch.tensor([-0.41, -0.51, -0.76]),\n",
    "    # light p\n",
    "    \"light_intensity_p\": 0.,\n",
    "    \"light_color_p\": torch.tensor([0.88, 0.99, 0.74]),\n",
    "    \"light_pos_p\": torch.tensor([2., 0., 2.])\n",
    "}\n",
    "with torch.no_grad():\n",
    "    score_CLIP, score_prob, image = forward(lat_rep, \"untextured render of a face\", camera_params, phong_params, light_params)\n",
    "plt.imshow(image.detach().numpy())\n",
    "plt.axis('off')  # Turn off axes\n",
    "plt.show()"
   ]
  },
  {
   "cell_type": "code",
   "execution_count": 2,
   "metadata": {
    "ExecuteTime": {
     "end_time": "2023-12-04T17:26:48.754399Z",
     "start_time": "2023-12-04T17:26:48.709693Z"
    }
   },
   "outputs": [],
   "source": [
    "lat_mean, lat_std = get_latent_mean_std()\n",
    "lat_rep = (torch.randn(lat_mean.shape) * lat_std * 0.85 + lat_mean).detach().requires_grad_(True)"
   ]
  },
  {
   "cell_type": "code",
   "execution_count": 3,
   "metadata": {
    "ExecuteTime": {
     "end_time": "2023-12-04T17:26:49.411931Z",
     "start_time": "2023-12-04T17:26:49.379419Z"
    }
   },
   "outputs": [],
   "source": [
    "optimizer = Adam(params=[lat_rep],\n",
    "                 lr=0.001, \n",
    "                 maximize=True)"
   ]
  },
  {
   "cell_type": "code",
   "execution_count": 8,
   "metadata": {
    "ExecuteTime": {
     "end_time": "2023-12-04T17:39:06.598585Z",
     "start_time": "2023-12-04T17:39:06.522400Z"
    }
   },
   "outputs": [],
   "source": [
    "camera_params = {\n",
    "        \"camera_distance\": 1.42,\n",
    "        \"camera_angle\": -55.,\n",
    "        \"focal_length\": 3.15,\n",
    "        \"max_ray_length\": 3, #(0.5 + 1) * 3.15 + 1.5,\n",
    "        # Image\n",
    "        \"resolution_y\": 200,\n",
    "        \"resolution_x\": 200\n",
    "    }\n",
    "\n",
    "phong_params = {\n",
    "    \"ambient_coeff\": 0.67,\n",
    "    \"diffuse_coeff\": 0.79,\n",
    "    \"specular_coeff\": 0.3,  # 0.63,\n",
    "    \"shininess\": 1.,\n",
    "    # Colors\n",
    "    \"object_color\": torch.tensor([0.61, 0.61, 0.61]),  # torch.tensor([0.63, 0.17, 0.78]),\n",
    "    \"background_color\": torch.tensor([0., 0., 0.])  # torch.tensor([0.35, 0.94, 0.26])\n",
    "}\n",
    "\n",
    "light_params = {\n",
    "    \"amb_light_color\": torch.tensor([0.57, 0.07, 0.69]),\n",
    "    # light 1\n",
    "    \"light_intensity_1\": 0.,  # 1.1,\n",
    "    \"light_color_1\": torch.tensor([0.88, 0.99, 0.74]),\n",
    "    \"light_dir_1\": torch.tensor([-0.41, -0.51, -0.76]),\n",
    "    # light p\n",
    "    \"light_intensity_p\": 1.,\n",
    "    \"light_color_p\": torch.tensor([0.88, 0.99, 0.74]),\n",
    "    \"light_pos_p\": torch.tensor([2., 0., 2.])\n",
    "}"
   ]
  },
  {
   "cell_type": "code",
   "execution_count": 9,
   "metadata": {
    "ExecuteTime": {
     "end_time": "2023-12-04T17:41:26.028602Z",
     "start_time": "2023-12-04T17:39:08.011236Z"
    }
   },
   "outputs": [
    {
     "data": {
      "image/png": "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",
      "text/plain": [
       "<Figure size 640x480 with 1 Axes>"
      ]
     },
     "metadata": {},
     "output_type": "display_data"
    }
   ],
   "source": [
    "with torch.no_grad():\n",
    "    score_CLIP, score_prob, image = forward(lat_rep, \"untextured render of a face\", camera_params, phong_params, light_params)\n",
    "plt.imshow(image.detach().numpy())\n",
    "plt.axis('off')  # Turn off axes\n",
    "plt.show()"
   ]
  },
  {
   "cell_type": "code",
   "execution_count": null,
   "metadata": {
    "ExecuteTime": {
     "end_time": "2023-12-04T17:45:05.085670Z",
     "start_time": "2023-12-04T17:42:34.071637Z"
    },
    "collapsed": false
   },
   "outputs": [],
   "source": [
    "\n",
    "score[0].backward()"
   ]
  },
  {
   "cell_type": "code",
   "execution_count": null,
   "metadata": {},
   "outputs": [],
   "source": [
    "init_latent = torch.load(\"../woman_latent\")"
   ]
  },
  {
   "cell_type": "code",
   "execution_count": 13,
   "metadata": {
    "ExecuteTime": {
     "end_time": "2023-12-04T17:30:14.678555Z",
     "start_time": "2023-12-04T17:29:14.530220Z"
    }
   },
   "outputs": [
    {
     "name": "stderr",
     "output_type": "stream",
     "text": [
      "  0%|          | 0/80 [00:00<?, ?it/s]"
     ]
    },
    {
     "name": "stderr",
     "output_type": "stream",
     "text": [
      "  1%|▏         | 1/80 [00:01<02:24,  1.83s/it]"
     ]
    },
    {
     "name": "stdout",
     "output_type": "stream",
     "text": [
      "update step 1 - score: tensor([[21.8706]], grad_fn=<AddBackward0>)\n"
     ]
    },
    {
     "name": "stderr",
     "output_type": "stream",
     "text": [
      "  2%|▎         | 2/80 [00:03<02:19,  1.79s/it]"
     ]
    },
    {
     "name": "stdout",
     "output_type": "stream",
     "text": [
      "update step 2 - score: tensor([[23.0050]], grad_fn=<AddBackward0>)\n"
     ]
    },
    {
     "name": "stderr",
     "output_type": "stream",
     "text": [
      "  4%|▍         | 3/80 [00:05<02:18,  1.80s/it]"
     ]
    },
    {
     "name": "stdout",
     "output_type": "stream",
     "text": [
      "update step 3 - score: tensor([[24.2126]], grad_fn=<AddBackward0>)\n"
     ]
    },
    {
     "name": "stderr",
     "output_type": "stream",
     "text": [
      "  5%|▌         | 4/80 [00:07<02:17,  1.80s/it]"
     ]
    },
    {
     "name": "stdout",
     "output_type": "stream",
     "text": [
      "update step 4 - score: tensor([[24.3901]], grad_fn=<AddBackward0>)\n"
     ]
    },
    {
     "name": "stderr",
     "output_type": "stream",
     "text": [
      "  6%|▋         | 5/80 [00:09<02:15,  1.80s/it]"
     ]
    },
    {
     "name": "stdout",
     "output_type": "stream",
     "text": [
      "update step 5 - score: tensor([[25.0299]], grad_fn=<AddBackward0>)\n"
     ]
    },
    {
     "name": "stderr",
     "output_type": "stream",
     "text": [
      "  8%|▊         | 6/80 [00:10<02:12,  1.80s/it]"
     ]
    },
    {
     "name": "stdout",
     "output_type": "stream",
     "text": [
      "update step 6 - score: tensor([[25.2502]], grad_fn=<AddBackward0>)\n"
     ]
    },
    {
     "name": "stderr",
     "output_type": "stream",
     "text": [
      "  9%|▉         | 7/80 [00:12<02:12,  1.81s/it]"
     ]
    },
    {
     "name": "stdout",
     "output_type": "stream",
     "text": [
      "update step 7 - score: tensor([[25.6178]], grad_fn=<AddBackward0>)\n"
     ]
    },
    {
     "name": "stderr",
     "output_type": "stream",
     "text": [
      " 10%|█         | 8/80 [00:14<02:10,  1.82s/it]"
     ]
    },
    {
     "name": "stdout",
     "output_type": "stream",
     "text": [
      "update step 8 - score: tensor([[25.9749]], grad_fn=<AddBackward0>)\n"
     ]
    },
    {
     "name": "stderr",
     "output_type": "stream",
     "text": [
      " 11%|█▏        | 9/80 [00:16<02:09,  1.82s/it]"
     ]
    },
    {
     "name": "stdout",
     "output_type": "stream",
     "text": [
      "update step 9 - score: tensor([[26.4186]], grad_fn=<AddBackward0>)\n"
     ]
    },
    {
     "name": "stderr",
     "output_type": "stream",
     "text": [
      " 12%|█▎        | 10/80 [00:18<02:06,  1.81s/it]"
     ]
    },
    {
     "name": "stdout",
     "output_type": "stream",
     "text": [
      "update step 10 - score: tensor([[26.2651]], grad_fn=<AddBackward0>)\n"
     ]
    },
    {
     "name": "stderr",
     "output_type": "stream",
     "text": [
      " 14%|█▍        | 11/80 [00:19<02:04,  1.81s/it]"
     ]
    },
    {
     "name": "stdout",
     "output_type": "stream",
     "text": [
      "update step 11 - score: tensor([[26.5226]], grad_fn=<AddBackward0>)\n"
     ]
    },
    {
     "name": "stderr",
     "output_type": "stream",
     "text": [
      " 15%|█▌        | 12/80 [00:21<02:02,  1.80s/it]"
     ]
    },
    {
     "name": "stdout",
     "output_type": "stream",
     "text": [
      "update step 12 - score: tensor([[26.7704]], grad_fn=<AddBackward0>)\n"
     ]
    },
    {
     "name": "stderr",
     "output_type": "stream",
     "text": [
      " 16%|█▋        | 13/80 [00:23<02:00,  1.80s/it]"
     ]
    },
    {
     "name": "stdout",
     "output_type": "stream",
     "text": [
      "update step 13 - score: tensor([[26.8651]], grad_fn=<AddBackward0>)\n"
     ]
    },
    {
     "name": "stderr",
     "output_type": "stream",
     "text": [
      " 18%|█▊        | 14/80 [00:25<01:58,  1.79s/it]"
     ]
    },
    {
     "name": "stdout",
     "output_type": "stream",
     "text": [
      "update step 14 - score: tensor([[27.0506]], grad_fn=<AddBackward0>)\n"
     ]
    },
    {
     "name": "stderr",
     "output_type": "stream",
     "text": [
      " 19%|█▉        | 15/80 [00:27<01:56,  1.79s/it]"
     ]
    },
    {
     "name": "stdout",
     "output_type": "stream",
     "text": [
      "update step 15 - score: tensor([[27.1506]], grad_fn=<AddBackward0>)\n"
     ]
    },
    {
     "name": "stderr",
     "output_type": "stream",
     "text": [
      " 20%|██        | 16/80 [00:28<01:54,  1.79s/it]"
     ]
    },
    {
     "name": "stdout",
     "output_type": "stream",
     "text": [
      "update step 16 - score: tensor([[27.2879]], grad_fn=<AddBackward0>)\n"
     ]
    },
    {
     "name": "stderr",
     "output_type": "stream",
     "text": [
      " 21%|██▏       | 17/80 [00:30<01:53,  1.80s/it]"
     ]
    },
    {
     "name": "stdout",
     "output_type": "stream",
     "text": [
      "update step 17 - score: tensor([[27.4791]], grad_fn=<AddBackward0>)\n"
     ]
    },
    {
     "name": "stderr",
     "output_type": "stream",
     "text": [
      " 22%|██▎       | 18/80 [00:32<01:51,  1.80s/it]"
     ]
    },
    {
     "name": "stdout",
     "output_type": "stream",
     "text": [
      "update step 18 - score: tensor([[27.5003]], grad_fn=<AddBackward0>)\n"
     ]
    },
    {
     "name": "stderr",
     "output_type": "stream",
     "text": [
      " 24%|██▍       | 19/80 [00:34<01:49,  1.79s/it]"
     ]
    },
    {
     "name": "stdout",
     "output_type": "stream",
     "text": [
      "update step 19 - score: tensor([[27.5476]], grad_fn=<AddBackward0>)\n"
     ]
    },
    {
     "name": "stderr",
     "output_type": "stream",
     "text": [
      " 25%|██▌       | 20/80 [00:36<01:47,  1.80s/it]"
     ]
    },
    {
     "name": "stdout",
     "output_type": "stream",
     "text": [
      "update step 20 - score: tensor([[27.5606]], grad_fn=<AddBackward0>)\n"
     ]
    },
    {
     "name": "stderr",
     "output_type": "stream",
     "text": [
      " 26%|██▋       | 21/80 [00:37<01:46,  1.80s/it]"
     ]
    },
    {
     "name": "stdout",
     "output_type": "stream",
     "text": [
      "update step 21 - score: tensor([[27.7863]], grad_fn=<AddBackward0>)\n"
     ]
    },
    {
     "name": "stderr",
     "output_type": "stream",
     "text": [
      " 28%|██▊       | 22/80 [00:39<01:44,  1.80s/it]"
     ]
    },
    {
     "name": "stdout",
     "output_type": "stream",
     "text": [
      "update step 22 - score: tensor([[28.2926]], grad_fn=<AddBackward0>)\n"
     ]
    },
    {
     "name": "stderr",
     "output_type": "stream",
     "text": [
      " 29%|██▉       | 23/80 [00:41<01:42,  1.79s/it]"
     ]
    },
    {
     "name": "stdout",
     "output_type": "stream",
     "text": [
      "update step 23 - score: tensor([[28.3840]], grad_fn=<AddBackward0>)\n"
     ]
    },
    {
     "name": "stderr",
     "output_type": "stream",
     "text": [
      " 30%|███       | 24/80 [00:43<01:41,  1.82s/it]"
     ]
    },
    {
     "name": "stdout",
     "output_type": "stream",
     "text": [
      "update step 24 - score: tensor([[28.5544]], grad_fn=<AddBackward0>)\n"
     ]
    },
    {
     "name": "stderr",
     "output_type": "stream",
     "text": [
      " 31%|███▏      | 25/80 [00:45<01:39,  1.81s/it]"
     ]
    },
    {
     "name": "stdout",
     "output_type": "stream",
     "text": [
      "update step 25 - score: tensor([[28.6194]], grad_fn=<AddBackward0>)\n"
     ]
    },
    {
     "name": "stderr",
     "output_type": "stream",
     "text": [
      " 32%|███▎      | 26/80 [00:46<01:37,  1.81s/it]"
     ]
    },
    {
     "name": "stdout",
     "output_type": "stream",
     "text": [
      "update step 26 - score: tensor([[28.9316]], grad_fn=<AddBackward0>)\n"
     ]
    },
    {
     "name": "stderr",
     "output_type": "stream",
     "text": [
      " 34%|███▍      | 27/80 [00:48<01:35,  1.80s/it]"
     ]
    },
    {
     "name": "stdout",
     "output_type": "stream",
     "text": [
      "update step 27 - score: tensor([[28.6038]], grad_fn=<AddBackward0>)\n"
     ]
    },
    {
     "name": "stderr",
     "output_type": "stream",
     "text": [
      " 35%|███▌      | 28/80 [00:50<01:33,  1.80s/it]"
     ]
    },
    {
     "name": "stdout",
     "output_type": "stream",
     "text": [
      "update step 28 - score: tensor([[28.7375]], grad_fn=<AddBackward0>)\n"
     ]
    },
    {
     "name": "stderr",
     "output_type": "stream",
     "text": [
      " 36%|███▋      | 29/80 [00:52<01:31,  1.80s/it]"
     ]
    },
    {
     "name": "stdout",
     "output_type": "stream",
     "text": [
      "update step 29 - score: tensor([[28.7565]], grad_fn=<AddBackward0>)\n"
     ]
    },
    {
     "name": "stderr",
     "output_type": "stream",
     "text": [
      " 38%|███▊      | 30/80 [00:54<01:30,  1.80s/it]"
     ]
    },
    {
     "name": "stdout",
     "output_type": "stream",
     "text": [
      "update step 30 - score: tensor([[28.9045]], grad_fn=<AddBackward0>)\n"
     ]
    },
    {
     "name": "stderr",
     "output_type": "stream",
     "text": [
      " 39%|███▉      | 31/80 [00:55<01:28,  1.81s/it]"
     ]
    },
    {
     "name": "stdout",
     "output_type": "stream",
     "text": [
      "update step 31 - score: tensor([[28.5668]], grad_fn=<AddBackward0>)\n"
     ]
    },
    {
     "name": "stderr",
     "output_type": "stream",
     "text": [
      " 40%|████      | 32/80 [00:57<01:27,  1.81s/it]"
     ]
    },
    {
     "name": "stdout",
     "output_type": "stream",
     "text": [
      "update step 32 - score: tensor([[28.9406]], grad_fn=<AddBackward0>)\n"
     ]
    },
    {
     "name": "stderr",
     "output_type": "stream",
     "text": [
      " 41%|████▏     | 33/80 [00:59<01:25,  1.83s/it]"
     ]
    },
    {
     "name": "stdout",
     "output_type": "stream",
     "text": [
      "update step 33 - score: tensor([[29.2440]], grad_fn=<AddBackward0>)\n"
     ]
    },
    {
     "name": "stderr",
     "output_type": "stream",
     "text": [
      " 42%|████▎     | 34/80 [01:01<01:24,  1.83s/it]"
     ]
    },
    {
     "name": "stdout",
     "output_type": "stream",
     "text": [
      "update step 34 - score: tensor([[29.1464]], grad_fn=<AddBackward0>)\n"
     ]
    },
    {
     "name": "stderr",
     "output_type": "stream",
     "text": [
      " 44%|████▍     | 35/80 [01:03<01:23,  1.85s/it]"
     ]
    },
    {
     "name": "stdout",
     "output_type": "stream",
     "text": [
      "update step 35 - score: tensor([[29.0476]], grad_fn=<AddBackward0>)\n"
     ]
    },
    {
     "name": "stderr",
     "output_type": "stream",
     "text": [
      " 45%|████▌     | 36/80 [01:05<01:21,  1.85s/it]"
     ]
    },
    {
     "name": "stdout",
     "output_type": "stream",
     "text": [
      "update step 36 - score: tensor([[29.2524]], grad_fn=<AddBackward0>)\n"
     ]
    },
    {
     "name": "stderr",
     "output_type": "stream",
     "text": [
      " 46%|████▋     | 37/80 [01:07<01:20,  1.86s/it]"
     ]
    },
    {
     "name": "stdout",
     "output_type": "stream",
     "text": [
      "update step 37 - score: tensor([[29.2664]], grad_fn=<AddBackward0>)\n"
     ]
    },
    {
     "name": "stderr",
     "output_type": "stream",
     "text": [
      " 48%|████▊     | 38/80 [01:08<01:17,  1.85s/it]"
     ]
    },
    {
     "name": "stdout",
     "output_type": "stream",
     "text": [
      "update step 38 - score: tensor([[29.0732]], grad_fn=<AddBackward0>)\n"
     ]
    },
    {
     "name": "stderr",
     "output_type": "stream",
     "text": [
      " 49%|████▉     | 39/80 [01:10<01:16,  1.87s/it]"
     ]
    },
    {
     "name": "stdout",
     "output_type": "stream",
     "text": [
      "update step 39 - score: tensor([[29.0141]], grad_fn=<AddBackward0>)\n"
     ]
    },
    {
     "name": "stderr",
     "output_type": "stream",
     "text": [
      " 50%|█████     | 40/80 [01:12<01:14,  1.87s/it]"
     ]
    },
    {
     "name": "stdout",
     "output_type": "stream",
     "text": [
      "update step 40 - score: tensor([[29.2283]], grad_fn=<AddBackward0>)\n"
     ]
    },
    {
     "name": "stderr",
     "output_type": "stream",
     "text": [
      " 51%|█████▏    | 41/80 [01:14<01:13,  1.88s/it]"
     ]
    },
    {
     "name": "stdout",
     "output_type": "stream",
     "text": [
      "update step 41 - score: tensor([[29.2788]], grad_fn=<AddBackward0>)\n"
     ]
    },
    {
     "name": "stderr",
     "output_type": "stream",
     "text": [
      " 52%|█████▎    | 42/80 [01:16<01:11,  1.89s/it]"
     ]
    },
    {
     "name": "stdout",
     "output_type": "stream",
     "text": [
      "update step 42 - score: tensor([[29.4485]], grad_fn=<AddBackward0>)\n"
     ]
    },
    {
     "name": "stderr",
     "output_type": "stream",
     "text": [
      " 54%|█████▍    | 43/80 [01:18<01:10,  1.89s/it]"
     ]
    },
    {
     "name": "stdout",
     "output_type": "stream",
     "text": [
      "update step 43 - score: tensor([[29.3978]], grad_fn=<AddBackward0>)\n"
     ]
    },
    {
     "name": "stderr",
     "output_type": "stream",
     "text": [
      " 55%|█████▌    | 44/80 [01:20<01:08,  1.91s/it]"
     ]
    },
    {
     "name": "stdout",
     "output_type": "stream",
     "text": [
      "update step 44 - score: tensor([[29.1627]], grad_fn=<AddBackward0>)\n"
     ]
    },
    {
     "name": "stderr",
     "output_type": "stream",
     "text": [
      " 56%|█████▋    | 45/80 [01:22<01:07,  1.91s/it]"
     ]
    },
    {
     "name": "stdout",
     "output_type": "stream",
     "text": [
      "update step 45 - score: tensor([[29.2933]], grad_fn=<AddBackward0>)\n"
     ]
    },
    {
     "name": "stderr",
     "output_type": "stream",
     "text": [
      " 57%|█████▊    | 46/80 [01:24<01:04,  1.91s/it]"
     ]
    },
    {
     "name": "stdout",
     "output_type": "stream",
     "text": [
      "update step 46 - score: tensor([[29.5356]], grad_fn=<AddBackward0>)\n"
     ]
    },
    {
     "name": "stderr",
     "output_type": "stream",
     "text": [
      " 59%|█████▉    | 47/80 [01:26<01:03,  1.91s/it]"
     ]
    },
    {
     "name": "stdout",
     "output_type": "stream",
     "text": [
      "update step 47 - score: tensor([[29.4960]], grad_fn=<AddBackward0>)\n"
     ]
    },
    {
     "name": "stderr",
     "output_type": "stream",
     "text": [
      " 60%|██████    | 48/80 [01:27<01:01,  1.91s/it]"
     ]
    },
    {
     "name": "stdout",
     "output_type": "stream",
     "text": [
      "update step 48 - score: tensor([[29.7333]], grad_fn=<AddBackward0>)\n"
     ]
    },
    {
     "name": "stderr",
     "output_type": "stream",
     "text": [
      " 61%|██████▏   | 49/80 [01:29<00:59,  1.91s/it]"
     ]
    },
    {
     "name": "stdout",
     "output_type": "stream",
     "text": [
      "update step 49 - score: tensor([[29.8459]], grad_fn=<AddBackward0>)\n"
     ]
    },
    {
     "name": "stderr",
     "output_type": "stream",
     "text": [
      " 62%|██████▎   | 50/80 [01:31<00:57,  1.92s/it]"
     ]
    },
    {
     "name": "stdout",
     "output_type": "stream",
     "text": [
      "update step 50 - score: tensor([[29.9788]], grad_fn=<AddBackward0>)\n"
     ]
    },
    {
     "name": "stderr",
     "output_type": "stream",
     "text": [
      " 64%|██████▍   | 51/80 [01:33<00:55,  1.92s/it]"
     ]
    },
    {
     "name": "stdout",
     "output_type": "stream",
     "text": [
      "update step 51 - score: tensor([[29.8699]], grad_fn=<AddBackward0>)\n"
     ]
    },
    {
     "name": "stderr",
     "output_type": "stream",
     "text": [
      " 65%|██████▌   | 52/80 [01:35<00:53,  1.92s/it]"
     ]
    },
    {
     "name": "stdout",
     "output_type": "stream",
     "text": [
      "update step 52 - score: tensor([[30.0407]], grad_fn=<AddBackward0>)\n"
     ]
    },
    {
     "name": "stderr",
     "output_type": "stream",
     "text": [
      " 66%|██████▋   | 53/80 [01:37<00:51,  1.92s/it]"
     ]
    },
    {
     "name": "stdout",
     "output_type": "stream",
     "text": [
      "update step 53 - score: tensor([[30.0702]], grad_fn=<AddBackward0>)\n"
     ]
    },
    {
     "name": "stderr",
     "output_type": "stream",
     "text": [
      " 68%|██████▊   | 54/80 [01:39<00:50,  1.94s/it]"
     ]
    },
    {
     "name": "stdout",
     "output_type": "stream",
     "text": [
      "update step 54 - score: tensor([[29.8904]], grad_fn=<AddBackward0>)\n"
     ]
    },
    {
     "name": "stderr",
     "output_type": "stream",
     "text": [
      " 69%|██████▉   | 55/80 [01:41<00:48,  1.93s/it]"
     ]
    },
    {
     "name": "stdout",
     "output_type": "stream",
     "text": [
      "update step 55 - score: tensor([[29.9655]], grad_fn=<AddBackward0>)\n"
     ]
    },
    {
     "name": "stderr",
     "output_type": "stream",
     "text": [
      " 70%|███████   | 56/80 [01:43<00:46,  1.93s/it]"
     ]
    },
    {
     "name": "stdout",
     "output_type": "stream",
     "text": [
      "update step 56 - score: tensor([[30.0808]], grad_fn=<AddBackward0>)\n"
     ]
    },
    {
     "name": "stderr",
     "output_type": "stream",
     "text": [
      " 71%|███████▏  | 57/80 [01:45<00:44,  1.93s/it]"
     ]
    },
    {
     "name": "stdout",
     "output_type": "stream",
     "text": [
      "update step 57 - score: tensor([[30.3374]], grad_fn=<AddBackward0>)\n"
     ]
    },
    {
     "name": "stderr",
     "output_type": "stream",
     "text": [
      " 72%|███████▎  | 58/80 [01:47<00:41,  1.91s/it]"
     ]
    },
    {
     "name": "stdout",
     "output_type": "stream",
     "text": [
      "update step 58 - score: tensor([[30.2727]], grad_fn=<AddBackward0>)\n"
     ]
    },
    {
     "name": "stderr",
     "output_type": "stream",
     "text": [
      " 74%|███████▍  | 59/80 [01:49<00:40,  1.91s/it]"
     ]
    },
    {
     "name": "stdout",
     "output_type": "stream",
     "text": [
      "update step 59 - score: tensor([[30.0932]], grad_fn=<AddBackward0>)\n"
     ]
    },
    {
     "name": "stderr",
     "output_type": "stream",
     "text": [
      " 75%|███████▌  | 60/80 [01:51<00:38,  1.92s/it]"
     ]
    },
    {
     "name": "stdout",
     "output_type": "stream",
     "text": [
      "update step 60 - score: tensor([[30.4409]], grad_fn=<AddBackward0>)\n"
     ]
    },
    {
     "name": "stderr",
     "output_type": "stream",
     "text": [
      " 76%|███████▋  | 61/80 [01:52<00:36,  1.91s/it]"
     ]
    },
    {
     "name": "stdout",
     "output_type": "stream",
     "text": [
      "update step 61 - score: tensor([[30.4907]], grad_fn=<AddBackward0>)\n"
     ]
    },
    {
     "name": "stderr",
     "output_type": "stream",
     "text": [
      " 78%|███████▊  | 62/80 [01:54<00:34,  1.92s/it]"
     ]
    },
    {
     "name": "stdout",
     "output_type": "stream",
     "text": [
      "update step 62 - score: tensor([[30.5175]], grad_fn=<AddBackward0>)\n"
     ]
    },
    {
     "name": "stderr",
     "output_type": "stream",
     "text": [
      " 79%|███████▉  | 63/80 [01:56<00:32,  1.93s/it]"
     ]
    },
    {
     "name": "stdout",
     "output_type": "stream",
     "text": [
      "update step 63 - score: tensor([[30.4963]], grad_fn=<AddBackward0>)\n"
     ]
    },
    {
     "name": "stderr",
     "output_type": "stream",
     "text": [
      " 80%|████████  | 64/80 [01:58<00:31,  1.94s/it]"
     ]
    },
    {
     "name": "stdout",
     "output_type": "stream",
     "text": [
      "update step 64 - score: tensor([[30.5362]], grad_fn=<AddBackward0>)\n"
     ]
    },
    {
     "name": "stderr",
     "output_type": "stream",
     "text": [
      " 81%|████████▏ | 65/80 [02:00<00:28,  1.92s/it]"
     ]
    },
    {
     "name": "stdout",
     "output_type": "stream",
     "text": [
      "update step 65 - score: tensor([[30.8711]], grad_fn=<AddBackward0>)\n"
     ]
    },
    {
     "name": "stderr",
     "output_type": "stream",
     "text": [
      " 82%|████████▎ | 66/80 [02:02<00:26,  1.91s/it]"
     ]
    },
    {
     "name": "stdout",
     "output_type": "stream",
     "text": [
      "update step 66 - score: tensor([[30.9194]], grad_fn=<AddBackward0>)\n"
     ]
    },
    {
     "name": "stderr",
     "output_type": "stream",
     "text": [
      " 84%|████████▍ | 67/80 [02:04<00:24,  1.92s/it]"
     ]
    },
    {
     "name": "stdout",
     "output_type": "stream",
     "text": [
      "update step 67 - score: tensor([[30.4905]], grad_fn=<AddBackward0>)\n"
     ]
    },
    {
     "name": "stderr",
     "output_type": "stream",
     "text": [
      " 85%|████████▌ | 68/80 [02:06<00:23,  1.92s/it]"
     ]
    },
    {
     "name": "stdout",
     "output_type": "stream",
     "text": [
      "update step 68 - score: tensor([[30.4218]], grad_fn=<AddBackward0>)\n"
     ]
    },
    {
     "name": "stderr",
     "output_type": "stream",
     "text": [
      " 86%|████████▋ | 69/80 [02:08<00:21,  1.92s/it]"
     ]
    },
    {
     "name": "stdout",
     "output_type": "stream",
     "text": [
      "update step 69 - score: tensor([[30.8956]], grad_fn=<AddBackward0>)\n"
     ]
    },
    {
     "name": "stderr",
     "output_type": "stream",
     "text": [
      " 88%|████████▊ | 70/80 [02:10<00:19,  1.93s/it]"
     ]
    },
    {
     "name": "stdout",
     "output_type": "stream",
     "text": [
      "update step 70 - score: tensor([[31.2109]], grad_fn=<AddBackward0>)\n"
     ]
    },
    {
     "name": "stderr",
     "output_type": "stream",
     "text": [
      " 89%|████████▉ | 71/80 [02:12<00:17,  1.93s/it]"
     ]
    },
    {
     "name": "stdout",
     "output_type": "stream",
     "text": [
      "update step 71 - score: tensor([[31.0076]], grad_fn=<AddBackward0>)\n"
     ]
    },
    {
     "name": "stderr",
     "output_type": "stream",
     "text": [
      " 90%|█████████ | 72/80 [02:14<00:15,  1.96s/it]"
     ]
    },
    {
     "name": "stdout",
     "output_type": "stream",
     "text": [
      "update step 72 - score: tensor([[31.1000]], grad_fn=<AddBackward0>)\n"
     ]
    },
    {
     "name": "stderr",
     "output_type": "stream",
     "text": [
      " 91%|█████████▏| 73/80 [02:16<00:13,  1.95s/it]"
     ]
    },
    {
     "name": "stdout",
     "output_type": "stream",
     "text": [
      "update step 73 - score: tensor([[31.0139]], grad_fn=<AddBackward0>)\n"
     ]
    },
    {
     "name": "stderr",
     "output_type": "stream",
     "text": [
      " 92%|█████████▎| 74/80 [02:18<00:11,  1.96s/it]"
     ]
    },
    {
     "name": "stdout",
     "output_type": "stream",
     "text": [
      "update step 74 - score: tensor([[31.0921]], grad_fn=<AddBackward0>)\n"
     ]
    },
    {
     "name": "stderr",
     "output_type": "stream",
     "text": [
      " 94%|█████████▍| 75/80 [02:20<00:09,  1.96s/it]"
     ]
    },
    {
     "name": "stdout",
     "output_type": "stream",
     "text": [
      "update step 75 - score: tensor([[31.2132]], grad_fn=<AddBackward0>)\n"
     ]
    },
    {
     "name": "stderr",
     "output_type": "stream",
     "text": [
      " 95%|█████████▌| 76/80 [02:22<00:07,  1.95s/it]"
     ]
    },
    {
     "name": "stdout",
     "output_type": "stream",
     "text": [
      "update step 76 - score: tensor([[31.2056]], grad_fn=<AddBackward0>)\n"
     ]
    },
    {
     "name": "stderr",
     "output_type": "stream",
     "text": [
      " 96%|█████████▋| 77/80 [02:23<00:05,  1.94s/it]"
     ]
    },
    {
     "name": "stdout",
     "output_type": "stream",
     "text": [
      "update step 77 - score: tensor([[31.4091]], grad_fn=<AddBackward0>)\n"
     ]
    },
    {
     "name": "stderr",
     "output_type": "stream",
     "text": [
      " 98%|█████████▊| 78/80 [02:25<00:03,  1.95s/it]"
     ]
    },
    {
     "name": "stdout",
     "output_type": "stream",
     "text": [
      "update step 78 - score: tensor([[31.2080]], grad_fn=<AddBackward0>)\n"
     ]
    },
    {
     "name": "stderr",
     "output_type": "stream",
     "text": [
      " 99%|█████████▉| 79/80 [02:27<00:01,  1.95s/it]"
     ]
    },
    {
     "name": "stdout",
     "output_type": "stream",
     "text": [
      "update step 79 - score: tensor([[31.4976]], grad_fn=<AddBackward0>)\n"
     ]
    },
    {
     "name": "stderr",
     "output_type": "stream",
     "text": [
      "100%|██████████| 80/80 [02:29<00:00,  1.87s/it]"
     ]
    },
    {
     "name": "stdout",
     "output_type": "stream",
     "text": [
      "update step 80 - score: tensor([[31.6594]], grad_fn=<AddBackward0>)\n",
      "tensor([[31.6594]])\n"
     ]
    },
    {
     "name": "stderr",
     "output_type": "stream",
     "text": [
      "\n"
     ]
    }
   ],
   "source": [
    "hparams = {\n",
    "        'resolution': 200,\n",
    "        'n_iterations': 100,\n",
    "        'optimizer_lr': 1.4e-3,\n",
    "        'lr_scheduler_factor': 0.53,\n",
    "        'lr_scheduler_patience': 5,\n",
    "        'lr_scheduler_min_lr': 2.6e-5\n",
    "    }\n",
    "\n",
    "#torch.cuda.memory._record_memory_history(True)\n",
<<<<<<< HEAD
    "best_latent, best_score, hist = get_latent_from_text(\"A feminine woman with long hair\", hparams)\n",
=======
    "best_latent, best_score, hist = get_latent_from_text(\"A person with curly hair\", hparams, init_lat=lat_mean)\n",
>>>>>>> 8776b4a (small adaptions)
    "#torch.cuda.memory._record_memory_history(False)\n",
    "#torch.cuda.memory._dump_snapshot(\"../memory_snapshot.pickle\")\n",
    "#print(best_score)"
   ]
  },
  {
   "cell_type": "code",
   "execution_count": null,
   "metadata": {},
   "outputs": [],
   "source": [
    "latent = None"
   ]
  },
  {
   "cell_type": "code",
   "execution_count": 4,
   "metadata": {
    "ExecuteTime": {
     "end_time": "2023-12-04T17:32:05.779761Z",
     "start_time": "2023-12-04T17:32:04.932225Z"
    }
   },
   "outputs": [
    {
     "data": {
      "text/plain": [
       "[<matplotlib.lines.Line2D at 0x7f275c017820>]"
      ]
     },
     "execution_count": 4,
     "metadata": {},
     "output_type": "execute_result"
    },
    {
     "data": {
      "image/png": "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",
      "text/plain": [
       "<Figure size 640x480 with 1 Axes>"
      ]
     },
     "metadata": {},
     "output_type": "display_data"
    }
   ],
   "source": [
    "plt.plot(torch.tensor(hist[\"scores\"]).numpy())"
   ]
  },
  {
   "cell_type": "code",
   "execution_count": null,
   "metadata": {
    "ExecuteTime": {
     "end_time": "2023-12-04T17:32:08.607684Z",
     "start_time": "2023-12-04T17:32:08.594915Z"
    }
   },
   "outputs": [],
   "source": [
    "torch.save(latent, \"../woman_latent\")"
   ]
  },
  {
   "cell_type": "code",
   "execution_count": null,
   "metadata": {
    "collapsed": false
   },
   "outputs": [],
   "source": [
    "torch.save(torch.stack(hist[\"latents\"]), \"latent_history\")"
   ]
  },
  {
   "cell_type": "code",
   "execution_count": 5,
   "metadata": {
    "collapsed": false
   },
   "outputs": [],
   "source": [
    "torch.save(torch.stack(hist[\"images\"]), \"render_history\")"
   ]
  },
  {
   "cell_type": "code",
   "execution_count": null,
   "metadata": {
    "ExecuteTime": {
     "end_time": "2023-12-04T17:32:12.595200Z",
     "start_time": "2023-12-04T17:32:12.474059Z"
    },
    "collapsed": false
   },
   "outputs": [],
   "source": [
    "plt.imshow(hist[\"images\"][-1].detach().numpy())\n",
    "plt.axis('off')  # Turn off axes\n",
    "plt.show()\n",
    "#plt.savefig(f\"optim_img/high_lr_{i}\", bbox_inches='tight')"
   ]
  },
  {
   "cell_type": "code",
   "execution_count": 14,
   "metadata": {
    "ExecuteTime": {
     "end_time": "2023-12-04T17:32:20.206671Z",
     "start_time": "2023-12-04T17:32:15.457577Z"
    },
    "collapsed": false
   },
   "outputs": [
    {
     "data": {
      "image/png": "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",
      "text/plain": [
       "<Figure size 640x480 with 1 Axes>"
      ]
     },
     "metadata": {},
     "output_type": "display_data"
    }
   ],
   "source": [
    "for i, im in enumerate(hist[\"images\"]):\n",
    "    plt.imshow(im.detach().numpy())\n",
    "    plt.axis('off')  # Turn off axes\n",
    "    plt.show()\n",
    "    #plt.savefig(f\"../optim_img/{i}\", bbox_inches='tight')"
   ]
  },
  {
   "cell_type": "code",
   "execution_count": null,
   "metadata": {
    "collapsed": false
   },
   "outputs": [],
   "source": []
  }
 ],
 "metadata": {
  "kernelspec": {
   "display_name": "nphm",
   "language": "python",
   "name": "python3"
  },
  "language_info": {
   "codemirror_mode": {
    "name": "ipython",
    "version": 3
   },
   "file_extension": ".py",
   "mimetype": "text/x-python",
   "name": "python",
   "nbconvert_exporter": "python",
   "pygments_lexer": "ipython3",
   "version": "3.9.18"
  }
 },
 "nbformat": 4,
 "nbformat_minor": 2
}
