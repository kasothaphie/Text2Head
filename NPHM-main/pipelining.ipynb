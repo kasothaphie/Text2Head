{
 "cells": [
  {
   "cell_type": "code",
   "execution_count": null,
   "metadata": {},
   "outputs": [],
   "source": [
    "import torch\n",
    "import matplotlib.pyplot as plt\n",
    "from torch.optim import Adam\n",
    "from pipeline import forward, get_latent_mean_std, get_latent_from_text"
   ]
  },
  {
   "cell_type": "code",
   "execution_count": null,
   "metadata": {},
   "outputs": [],
   "source": [
    "lat_mean, lat_std = get_latent_mean_std()\n",
    "lat_rep = (torch.randn(lat_mean.shape) * lat_std * 0.85 + lat_mean).detach().requires_grad_(True)"
   ]
  },
  {
   "cell_type": "code",
   "execution_count": null,
   "metadata": {},
   "outputs": [],
   "source": [
    "optimizer = Adam(params=[lat_rep],\n",
    "                 lr=0.001, \n",
    "                 maximize=True)"
   ]
  },
  {
   "cell_type": "code",
   "execution_count": null,
   "metadata": {},
   "outputs": [],
   "source": [
    "res = 10\n",
    "render_config = {\n",
    "    \"pu\": res,\n",
    "    \"pv\": res,\n",
    "    \"camera_distance\": 2.,\n",
    "    \"camera_angle\": 45.,\n",
    "    \"ambient_coeff\": 0.1,\n",
    "    \"diffuse_coeff\": 0.6,\n",
    "    \"specular_coeff\": 0.3,\n",
    "    \"shininess\": 32.,\n",
    "    \"focal_length\": 3.\n",
    "}"
   ]
  },
  {
   "cell_type": "code",
   "execution_count": null,
   "metadata": {},
   "outputs": [],
   "source": [
    "score = forward(lat_rep, \"untextured render of a face\", render_config)"
   ]
  },
  {
   "cell_type": "code",
   "execution_count": null,
   "metadata": {},
   "outputs": [],
   "source": [
    "latent, score_h, latent_h = get_latent_from_text(\"woman with long hair\", n_updates=20)"
   ]
  },
  {
   "cell_type": "code",
   "execution_count": null,
   "metadata": {},
   "outputs": [],
   "source": [
    "plt.plot(torch.tensor(score_h).numpy())\n",
    "plt.close()"
   ]
  },
  {
   "cell_type": "code",
   "execution_count": null,
   "metadata": {},
   "outputs": [],
   "source": [
    "#torch.save(latent, \"optim_latent\")"
   ]
  }
 ],
 "metadata": {
  "kernelspec": {
   "display_name": "nphm",
   "language": "python",
   "name": "python3"
  },
  "language_info": {
   "codemirror_mode": {
    "name": "ipython",
    "version": 3
   },
   "file_extension": ".py",
   "mimetype": "text/x-python",
   "name": "python",
   "nbconvert_exporter": "python",
   "pygments_lexer": "ipython3",
   "version": "3.9.18"
  }
 },
 "nbformat": 4,
 "nbformat_minor": 2
}
