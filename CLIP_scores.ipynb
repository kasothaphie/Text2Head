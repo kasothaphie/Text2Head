{
 "cells": [
  {
   "cell_type": "code",
   "execution_count": 4,
   "id": "initial_id",
   "metadata": {
    "collapsed": true,
    "ExecuteTime": {
     "end_time": "2023-10-30T17:14:01.364368Z",
     "start_time": "2023-10-30T17:13:34.114729Z"
    }
   },
   "outputs": [],
   "source": [
    "import torch\n",
    "import clip\n",
    "from PIL import Image\n",
    "\n",
    "device = \"cuda\" if torch.cuda.is_available() else \"cpu\"\n",
    "model, preprocess = clip.load(\"ViT-B/32\", device=device)"
   ]
  },
  {
   "cell_type": "code",
   "execution_count": 10,
   "outputs": [
    {
     "name": "stdout",
     "output_type": "stream",
     "text": [
      "This is the image we want to analyse\n"
     ]
    },
    {
     "data": {
      "text/plain": "<Figure size 640x480 with 1 Axes>",
      "image/png": "[encoded data removed]"
     },
     "metadata": {},
     "output_type": "display_data"
    }
   ],
   "source": [
    "# inputs\n",
    "image_folder = '/Users/katharinaschmid/Text2Head/NPHM-main/rendering_data'\n",
    "image_name = 'output_image.png'\n",
    "image_link = image_folder + image_name"
   ],
   "metadata": {
    "collapsed": false,
    "ExecuteTime": {
     "end_time": "2023-10-30T17:19:50.956035Z",
     "start_time": "2023-10-30T17:19:50.848485Z"
    }
   },
   "id": "4159e9e7136f1674"
  },
  {
   "cell_type": "code",
   "execution_count": 12,
   "outputs": [
    {
     "name": "stdout",
     "output_type": "stream",
     "text": [
      "Label probs: [[3.2528943e-01 6.4061385e-01 3.3716328e-02 3.8041084e-04]]\n"
     ]
    }
   ],
   "source": [
    "image = preprocess(Image.open(image_link)).unsqueeze(0).to(device)\n",
    "text = clip.tokenize([\"a sphere\", \"a cuboid\", \"a cat\"]).to(device)"
   ],
   "metadata": {
    "collapsed": false,
    "ExecuteTime": {
     "end_time": "2023-10-30T17:20:10.324594Z",
     "start_time": "2023-10-30T17:20:08.512877Z"
    }
   },
   "id": "6fe527352007293d"
  }
 ],
 "metadata": {
  "kernelspec": {
   "display_name": "Python 3",
   "language": "python",
   "name": "python3"
  },
  "language_info": {
   "codemirror_mode": {
    "name": "ipython",
    "version": 2
   },
   "file_extension": ".py",
   "mimetype": "text/x-python",
   "name": "python",
   "nbconvert_exporter": "python",
   "pygments_lexer": "ipython2",
   "version": "2.7.6"
  }
 },
 "nbformat": 4,
 "nbformat_minor": 5
}
