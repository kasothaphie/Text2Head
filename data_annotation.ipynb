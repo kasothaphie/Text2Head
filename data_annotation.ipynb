{
 "cells": [
  {
   "cell_type": "code",
   "execution_count": 16,
   "id": "initial_id",
   "metadata": {
    "collapsed": true,
    "ExecuteTime": {
     "end_time": "2023-11-23T12:35:14.361469Z",
     "start_time": "2023-11-23T12:35:14.340836Z"
    }
   },
   "outputs": [],
   "source": [
    "import os\n",
    "import json"
   ]
  },
  {
   "cell_type": "markdown",
   "source": [
    "If you are unsure or none of the option applies simply choose n/a\n",
    "- gender: man / woman / n/a\n",
    "- age: young / old / n/a (choose young for students and old if person is clearly >40)\n",
    "- ethnicity: Caucasian / Asian / African / n/a\n",
    "- facial expression: open mouth / smiling / closed eyes / raised brows / puffed cheeks / n/a (choose n/a for sad!)\n",
    "- emotion: happy / sad / n/a (choose n/a for all expressions that are not smiling or sad!)\n",
    "- hairstyle: hat / ponytail / straight hair / curly hair / n/a (choose hat for any kind of Kopfbedeckung --> adapt prompt @Katha)\n",
    "\n",
    "was nicht drin ist: dick / dünn, long hair / short hair"
   ],
   "metadata": {
    "collapsed": false
   },
   "id": "c82e3607bd1fca67"
  },
  {
   "cell_type": "code",
   "execution_count": 1,
   "outputs": [
    {
     "name": "stdout",
     "output_type": "stream",
     "text": [
      "{'heads': [{'id': '003_000', 'gender': 'man', 'age': 'young', 'ethnicity': 'Caucasian', 'facial_expression': 'closed eyes', 'emotion': 'n/a', 'hairstyle': 'straight hair', 'beard': 'no'}, {'id': '004_000', 'gender': 'man', 'age': 'young', 'ethnicity': 'Asian', 'facial_expression': 'puffed cheeks', 'emotion': 'n/a', 'hairstyle': 'straight hair', 'beard': 'no'}, {'id': '005_000', 'gender': 'man', 'age': 'young', 'ethnicity': 'Asian', 'facial_expression': 'puffed cheeks', 'emotion': 'n/a', 'hairstyle': 'straight hair', 'beard': 'no'}]}\n"
     ]
    }
   ],
   "source": [
    "heads = []\n",
    "\n",
    "head_data = {}\n",
    "head_data['id'] = '003_000'\n",
    "head_data['gender'] = 'man'\n",
    "head_data['age'] = 'young'\n",
    "head_data['ethnicity'] = 'Caucasian'\n",
    "head_data['facial_expression'] = 'closed eyes'\n",
    "head_data['emotion'] = 'n/a'\n",
    "head_data['hairstyle'] = 'straight hair'\n",
    "head_data['beard'] = 'no'\n",
    "heads.append(head_data)\n",
    "\n",
    "head_data = {}\n",
    "head_data['id'] = '004_000'\n",
    "head_data['gender'] = 'man'\n",
    "head_data['age'] = 'young'\n",
    "head_data['ethnicity'] = 'Asian'\n",
    "head_data['facial_expression'] = 'puffed cheeks'\n",
    "head_data['emotion'] = 'n/a'\n",
    "head_data['hairstyle'] = 'straight hair'\n",
    "head_data['beard'] = 'no'\n",
    "heads.append(head_data)\n",
    "\n",
    "head_data = {}\n",
    "head_data['id'] = '005_000'\n",
    "head_data['gender'] = 'man'\n",
    "head_data['age'] = 'young'\n",
    "head_data['ethnicity'] = 'Asian'\n",
    "head_data['facial_expression'] = 'puffed cheeks'\n",
    "head_data['emotion'] = 'n/a'\n",
    "head_data['hairstyle'] = 'straight hair'\n",
    "head_data['beard'] = 'no'\n",
    "heads.append(head_data)\n",
    "        \n",
    "data = {\"heads\": heads}\n",
    "#print(data)"
   ],
   "metadata": {
    "collapsed": false,
    "ExecuteTime": {
     "end_time": "2023-11-25T14:45:17.358991Z",
     "start_time": "2023-11-25T14:45:17.336981Z"
    }
   },
   "id": "10cb2e27a38e2bd1"
  },
  {
   "cell_type": "code",
   "execution_count": 12,
   "outputs": [
    {
     "name": "stdout",
     "output_type": "stream",
     "text": [
      "[1]\n"
     ]
    }
   ],
   "source": [
    "# Identity: Gender\n",
    "male_indices = [index for index, head in enumerate(data['heads']) if head['gender'] == 'man']\n",
    "female_indices = [index for index, head in enumerate(data['heads']) if head['gender'] == 'woman']\n",
    "\n",
    "# Identity: Age\n",
    "young_indices = [index for index, head in enumerate(data['heads']) if head['age'] == 'young']\n",
    "old_indices = [index for index, head in enumerate(data['heads']) if head['age'] == 'old']\n",
    "\n",
    "# Identity: Hairstyle\n",
    "hat_indices = [index for index, head in enumerate(data['heads']) if head['hairstyle'] == 'hat']\n",
    "ponytail_indices = [index for index, head in enumerate(data['heads']) if head['hairstyle'] == 'ponytail']\n",
    "straight_hair_indices = [index for index, head in enumerate(data['heads']) if head['hairstyle'] == 'straight hair']\n",
    "curly_hair_indices = [index for index, head in enumerate(data['heads']) if head['hairstyle'] == 'curly hair']\n",
    "\n",
    "# Identity: Beard\n",
    "beard_indices = [index for index, head in enumerate(data['heads']) if head['beard'] == 'yes']\n",
    "\n",
    "# Identity: Ethnicity\n",
    "caucasian_indices = [index for index, head in enumerate(data['heads']) if head['ethnicity'] == 'Caucasian'] \n",
    "asian_indices = [index for index, head in enumerate(data['heads']) if head['ethnicity'] == 'Asian'] \n",
    "african_indices = [index for index, head in enumerate(data['heads']) if head['ethnicity'] == 'African'] \n",
    "\n",
    "# Expression: Facial Expression\n",
    "open_mouth_indices = [index for index, head in enumerate(data['heads']) if head['facial_expression'] == 'open mouth']\n",
    "smiling_indices = [index for index, head in enumerate(data['heads']) if head['facial_expression'] == 'smiling']\n",
    "closed_eyes_indices = [index for index, head in enumerate(data['heads']) if head['facial_expression'] == 'closed eyes']\n",
    "raised_brows_indices = [index for index, head in enumerate(data['heads']) if head['facial_expression'] == 'raised brows']\n",
    "puffed_cheeks_indices = [index for index, head in enumerate(data['heads']) if head['facial_expression'] == 'puffed_cheeks']\n",
    "\n",
    "# Expression: Emotion \n",
    "sad_indices = [index for index, head in enumerate(data['heads']) if head['emotion'] == 'sad']\n",
    "happy_indices = [index for index, head in enumerate(data['heads']) if head['emotion'] == 'happy']\n"
   ],
   "metadata": {
    "collapsed": false,
    "ExecuteTime": {
     "end_time": "2023-11-23T10:44:26.702274Z",
     "start_time": "2023-11-23T10:44:26.674113Z"
    }
   },
   "id": "13b4ef33869e69b3"
  },
  {
   "cell_type": "code",
   "execution_count": 18,
   "outputs": [],
   "source": [
    "# Save data as a JSON file\n",
    "save_path = '/Users/katharinaschmid/Text2Head/rendering_data/head_annotations.json'\n",
    "with open(save_path, \"w\") as json_file:\n",
    "    json.dump(data, json_file)"
   ],
   "metadata": {
    "collapsed": false,
    "ExecuteTime": {
     "end_time": "2023-11-23T12:35:57.917691Z",
     "start_time": "2023-11-23T12:35:57.899982Z"
    }
   },
   "id": "75d0d679ef77a2bc"
  },
  {
   "cell_type": "code",
   "execution_count": null,
   "outputs": [],
   "source": [],
   "metadata": {
    "collapsed": false
   },
   "id": "f51142da1ff9dbc"
  }
 ],
 "metadata": {
  "kernelspec": {
   "display_name": "Python 3",
   "language": "python",
   "name": "python3"
  },
  "language_info": {
   "codemirror_mode": {
    "name": "ipython",
    "version": 2
   },
   "file_extension": ".py",
   "mimetype": "text/x-python",
   "name": "python",
   "nbconvert_exporter": "python",
   "pygments_lexer": "ipython2",
   "version": "2.7.6"
  }
 },
 "nbformat": 4,
 "nbformat_minor": 5
}
